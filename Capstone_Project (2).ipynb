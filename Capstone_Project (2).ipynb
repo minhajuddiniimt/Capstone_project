{
 "cells": [
  {
   "cell_type": "markdown",
   "metadata": {
    "colab_type": "text",
    "id": "p9REd_d5-ab7"
   },
   "source": [
    "## 1 Introduction\n",
    "In the capstone project, we performed EDA (Exploratory Data Analysis) on the data by using some python libraries (Pandas, numpy, matplotlib and seaborn). This Yellow Taxi trip data taken from New York city. There are many field in the data."
   ]
  },
  {
   "cell_type": "markdown",
   "metadata": {
    "colab_type": "text",
    "id": "rYlHA5El225H"
   },
   "source": [
    "### 1.1 Import Libraries\n",
    "Here, we use some python libraries for manipulation of data. These libraries make easy for manipulation and analysis of the data which are as given below-\n",
    "\n",
    "*   **Pandas -** Pandas library is used for manipulation of data.\n",
    "*   **Numpy -** Numpy library is used to perform on matrix or array and fast execution code\n",
    "*   **Matplotlib -** This library is used for data visualization.\n",
    "*   **Seaborn -** Seaborn is also used for data visualization with more attractive and effecftive way\n",
    "\n"
   ]
  },
  {
   "cell_type": "code",
   "execution_count": 1,
   "metadata": {
    "colab": {
     "base_uri": "https://localhost:8080/",
     "height": 71
    },
    "colab_type": "code",
    "id": "PXlOeQkdzxma",
    "outputId": "df0dd79b-0233-4390-cfe5-27cffde9c7d6"
   },
   "outputs": [
    {
     "name": "stderr",
     "output_type": "stream",
     "text": [
      "/usr/local/lib/python3.6/dist-packages/statsmodels/tools/_testing.py:19: FutureWarning: pandas.util.testing is deprecated. Use the functions in the public API at pandas.testing instead.\n",
      "  import pandas.util.testing as tm\n"
     ]
    }
   ],
   "source": [
    "import pandas as pd\n",
    "import numpy as np\n",
    "import seaborn as sns\n",
    "import matplotlib.pyplot as plt\n",
    "%matplotlib inline"
   ]
  },
  {
   "cell_type": "markdown",
   "metadata": {
    "colab_type": "text",
    "id": "KfzOtNOV3PLy"
   },
   "source": [
    "### 1.2 Load data\n",
    "I have **Yello Taxi Trip Records Data** in csv file (comma seprated file or flat file). This file is look like excel sheet but there are only **one sheet** in csv file.\n",
    "\n",
    "Here, we are load the data using pandas method pd.read_csv() which is used to extract the knowledge or useful information or EDA."
   ]
  },
  {
   "cell_type": "code",
   "execution_count": 2,
   "metadata": {
    "colab": {
     "base_uri": "https://localhost:8080/",
     "height": 71
    },
    "colab_type": "code",
    "id": "s1GAdMT50INv",
    "outputId": "b5fcf5ec-2ea7-40fd-a477-bc29652ccc25"
   },
   "outputs": [
    {
     "name": "stderr",
     "output_type": "stream",
     "text": [
      "/usr/local/lib/python3.6/dist-packages/IPython/core/interactiveshell.py:2718: DtypeWarning: Columns (6) have mixed types.Specify dtype option on import or set low_memory=False.\n",
      "  interactivity=interactivity, compiler=compiler, result=result)\n"
     ]
    }
   ],
   "source": [
    "data = pd.read_csv('/content/drive/My Drive/Capstone Project/yellow_tripdata_2019-12.csv')"
   ]
  },
  {
   "cell_type": "markdown",
   "metadata": {
    "colab_type": "text",
    "id": "nbgALTFJ3Uss"
   },
   "source": [
    "### 1.3 Basic information about the data\n",
    "Here, I extract the basic information about the data.\n",
    "*   Number of rows\n",
    "*   Number of columns\n",
    "*   Dimension of the data\n",
    "*   Size of the data\n",
    "*   Shape of data\n",
    "*   Columns name\n",
    "*   Index range\n",
    "*   Data type of columns"
   ]
  },
  {
   "cell_type": "code",
   "execution_count": null,
   "metadata": {
    "colab": {
     "base_uri": "https://localhost:8080/",
     "height": 85
    },
    "colab_type": "code",
    "id": "HOAFgjrG0i6w",
    "outputId": "3525efad-4116-4791-956b-c60871bd25f9"
   },
   "outputs": [
    {
     "name": "stdout",
     "output_type": "stream",
     "text": [
      "Number of rows-  6896317\n",
      "Number of columns-  18\n",
      "size of data-  124133706\n",
      "Dimension of data-  2\n"
     ]
    }
   ],
   "source": [
    "print('Number of rows- ', data.shape[0])\n",
    "print('Number of columns- ',data.shape[1])\n",
    "print('size of data- ',data.size)\n",
    "print('Dimension of data- ',data.ndim)"
   ]
  },
  {
   "cell_type": "code",
   "execution_count": null,
   "metadata": {
    "colab": {
     "base_uri": "https://localhost:8080/",
     "height": 34
    },
    "colab_type": "code",
    "id": "QEI8Gq2J0sqO",
    "outputId": "b3cb787f-edaa-4542-fd5f-340c5f3715f1"
   },
   "outputs": [
    {
     "name": "stdout",
     "output_type": "stream",
     "text": [
      "shape of data:  (6896317, 18)\n"
     ]
    }
   ],
   "source": [
    "print('shape of data: ',data.shape)"
   ]
  },
  {
   "cell_type": "code",
   "execution_count": null,
   "metadata": {
    "colab": {
     "base_uri": "https://localhost:8080/",
     "height": 340
    },
    "colab_type": "code",
    "id": "usy0wNcV19w2",
    "outputId": "560a0ec5-ef15-4c6f-b806-86d87ed4d151"
   },
   "outputs": [
    {
     "data": {
      "text/plain": [
       "VendorID                 float64\n",
       "tpep_pickup_datetime      object\n",
       "tpep_dropoff_datetime     object\n",
       "passenger_count          float64\n",
       "trip_distance            float64\n",
       "RatecodeID               float64\n",
       "store_and_fwd_flag        object\n",
       "PULocationID               int64\n",
       "DOLocationID               int64\n",
       "payment_type             float64\n",
       "fare_amount              float64\n",
       "extra                    float64\n",
       "mta_tax                  float64\n",
       "tip_amount               float64\n",
       "tolls_amount             float64\n",
       "improvement_surcharge    float64\n",
       "total_amount             float64\n",
       "congestion_surcharge     float64\n",
       "dtype: object"
      ]
     },
     "execution_count": 6,
     "metadata": {
      "tags": []
     },
     "output_type": "execute_result"
    }
   ],
   "source": [
    "data.dtypes"
   ]
  },
  {
   "cell_type": "code",
   "execution_count": null,
   "metadata": {
    "colab": {
     "base_uri": "https://localhost:8080/",
     "height": 340
    },
    "colab_type": "code",
    "id": "EsBlWduE3xBh",
    "outputId": "799efa50-7715-4eb5-e93f-3a5eb0c623d2"
   },
   "outputs": [
    {
     "name": "stdout",
     "output_type": "stream",
     "text": [
      "columns of data - \n",
      "VendorID\n",
      "tpep_pickup_datetime\n",
      "tpep_dropoff_datetime\n",
      "passenger_count\n",
      "trip_distance\n",
      "RatecodeID\n",
      "store_and_fwd_flag\n",
      "PULocationID\n",
      "DOLocationID\n",
      "payment_type\n",
      "fare_amount\n",
      "extra\n",
      "mta_tax\n",
      "tip_amount\n",
      "tolls_amount\n",
      "improvement_surcharge\n",
      "total_amount\n",
      "congestion_surcharge\n"
     ]
    }
   ],
   "source": [
    "print('columns of data - ')\n",
    "for column in data.columns:\n",
    "  print(column)"
   ]
  },
  {
   "cell_type": "code",
   "execution_count": null,
   "metadata": {
    "colab": {
     "base_uri": "https://localhost:8080/",
     "height": 34
    },
    "colab_type": "code",
    "id": "9yD3fczm5wOv",
    "outputId": "71a9b608-ad1d-4c12-9648-1ff1fc158e50"
   },
   "outputs": [
    {
     "name": "stdout",
     "output_type": "stream",
     "text": [
      "Index of data- RangeIndex(start=0, stop=6896317, step=1)\n"
     ]
    }
   ],
   "source": [
    "print('Index of data-',data.index)"
   ]
  },
  {
   "cell_type": "markdown",
   "metadata": {
    "colab_type": "text",
    "id": "hNWgW_4mTnuG"
   },
   "source": [
    "#### Conclusion\n",
    "*   In this data, there are 6896317 rows and 18 columns.\n",
    "*   The columns names of the data are  VendorID, tpep_pickup_datetime, tpep_dropoff_time, passenger_count, trip_distance, RatecodeID, store_and_fwd_flag, PULocationID, DOLocationID, payment_type, fare_amount, extra, mta_tax, tip_amount, tolls_amount, improvement_surcharge, total_amount and congestion_surcharge.\n",
    "*   In this data, the fields or columns contain 13 float data type column, 2 integer data type, and 3 object data type columns.\n",
    "*   The index of data is start from zero(0) and end at 6896316."
   ]
  },
  {
   "cell_type": "markdown",
   "metadata": {
    "colab_type": "text",
    "id": "YkMGyYFQGB6a"
   },
   "source": [
    "### 1.4 File structure and content\n",
    "Here, we see the structure of data, sample of data, and some statistic of data.\n"
   ]
  },
  {
   "cell_type": "code",
   "execution_count": null,
   "metadata": {
    "colab": {
     "base_uri": "https://localhost:8080/",
     "height": 334
    },
    "colab_type": "code",
    "id": "tShQszTS6irM",
    "outputId": "bbcc5b17-e801-4eaf-e0c6-547c9fe598bd"
   },
   "outputs": [
    {
     "data": {
      "text/html": [
       "<div>\n",
       "<style scoped>\n",
       "    .dataframe tbody tr th:only-of-type {\n",
       "        vertical-align: middle;\n",
       "    }\n",
       "\n",
       "    .dataframe tbody tr th {\n",
       "        vertical-align: top;\n",
       "    }\n",
       "\n",
       "    .dataframe thead th {\n",
       "        text-align: right;\n",
       "    }\n",
       "</style>\n",
       "<table border=\"1\" class=\"dataframe\">\n",
       "  <thead>\n",
       "    <tr style=\"text-align: right;\">\n",
       "      <th></th>\n",
       "      <th>VendorID</th>\n",
       "      <th>passenger_count</th>\n",
       "      <th>trip_distance</th>\n",
       "      <th>RatecodeID</th>\n",
       "      <th>PULocationID</th>\n",
       "      <th>DOLocationID</th>\n",
       "      <th>payment_type</th>\n",
       "      <th>fare_amount</th>\n",
       "      <th>extra</th>\n",
       "      <th>mta_tax</th>\n",
       "      <th>tip_amount</th>\n",
       "      <th>tolls_amount</th>\n",
       "      <th>improvement_surcharge</th>\n",
       "      <th>total_amount</th>\n",
       "      <th>congestion_surcharge</th>\n",
       "    </tr>\n",
       "  </thead>\n",
       "  <tbody>\n",
       "    <tr>\n",
       "      <th>count</th>\n",
       "      <td>6.845299e+06</td>\n",
       "      <td>6.845299e+06</td>\n",
       "      <td>6.896317e+06</td>\n",
       "      <td>6.845299e+06</td>\n",
       "      <td>6.896317e+06</td>\n",
       "      <td>6.896317e+06</td>\n",
       "      <td>6.845299e+06</td>\n",
       "      <td>6.896317e+06</td>\n",
       "      <td>6.896317e+06</td>\n",
       "      <td>6.896317e+06</td>\n",
       "      <td>6.896317e+06</td>\n",
       "      <td>6.896317e+06</td>\n",
       "      <td>6.896317e+06</td>\n",
       "      <td>6.896317e+06</td>\n",
       "      <td>6.896317e+06</td>\n",
       "    </tr>\n",
       "    <tr>\n",
       "      <th>mean</th>\n",
       "      <td>1.666457e+00</td>\n",
       "      <td>1.550877e+00</td>\n",
       "      <td>2.973421e+00</td>\n",
       "      <td>1.065756e+00</td>\n",
       "      <td>1.636525e+02</td>\n",
       "      <td>1.614892e+02</td>\n",
       "      <td>1.298993e+00</td>\n",
       "      <td>1.359027e+01</td>\n",
       "      <td>1.108518e+00</td>\n",
       "      <td>4.924147e-01</td>\n",
       "      <td>2.244620e+00</td>\n",
       "      <td>3.881238e-01</td>\n",
       "      <td>2.979857e-01</td>\n",
       "      <td>1.964165e+01</td>\n",
       "      <td>2.275278e+00</td>\n",
       "    </tr>\n",
       "    <tr>\n",
       "      <th>std</th>\n",
       "      <td>4.714787e-01</td>\n",
       "      <td>1.174330e+00</td>\n",
       "      <td>1.643113e+01</td>\n",
       "      <td>9.309869e-01</td>\n",
       "      <td>6.605758e+01</td>\n",
       "      <td>7.033753e+01</td>\n",
       "      <td>4.879401e-01</td>\n",
       "      <td>1.522692e+02</td>\n",
       "      <td>1.259892e+00</td>\n",
       "      <td>7.233857e-02</td>\n",
       "      <td>2.875127e+00</td>\n",
       "      <td>1.715502e+00</td>\n",
       "      <td>3.381444e-02</td>\n",
       "      <td>1.525236e+02</td>\n",
       "      <td>7.359669e-01</td>\n",
       "    </tr>\n",
       "    <tr>\n",
       "      <th>min</th>\n",
       "      <td>1.000000e+00</td>\n",
       "      <td>0.000000e+00</td>\n",
       "      <td>-3.726453e+04</td>\n",
       "      <td>1.000000e+00</td>\n",
       "      <td>1.000000e+00</td>\n",
       "      <td>1.000000e+00</td>\n",
       "      <td>1.000000e+00</td>\n",
       "      <td>-1.472000e+03</td>\n",
       "      <td>-4.500000e+00</td>\n",
       "      <td>-5.000000e-01</td>\n",
       "      <td>-2.008000e+02</td>\n",
       "      <td>-4.050000e+01</td>\n",
       "      <td>-3.000000e-01</td>\n",
       "      <td>-1.472800e+03</td>\n",
       "      <td>-2.500000e+00</td>\n",
       "    </tr>\n",
       "    <tr>\n",
       "      <th>25%</th>\n",
       "      <td>1.000000e+00</td>\n",
       "      <td>1.000000e+00</td>\n",
       "      <td>9.600000e-01</td>\n",
       "      <td>1.000000e+00</td>\n",
       "      <td>1.250000e+02</td>\n",
       "      <td>1.120000e+02</td>\n",
       "      <td>1.000000e+00</td>\n",
       "      <td>6.500000e+00</td>\n",
       "      <td>0.000000e+00</td>\n",
       "      <td>5.000000e-01</td>\n",
       "      <td>0.000000e+00</td>\n",
       "      <td>0.000000e+00</td>\n",
       "      <td>3.000000e-01</td>\n",
       "      <td>1.130000e+01</td>\n",
       "      <td>2.500000e+00</td>\n",
       "    </tr>\n",
       "    <tr>\n",
       "      <th>50%</th>\n",
       "      <td>2.000000e+00</td>\n",
       "      <td>1.000000e+00</td>\n",
       "      <td>1.600000e+00</td>\n",
       "      <td>1.000000e+00</td>\n",
       "      <td>1.620000e+02</td>\n",
       "      <td>1.620000e+02</td>\n",
       "      <td>1.000000e+00</td>\n",
       "      <td>9.500000e+00</td>\n",
       "      <td>5.000000e-01</td>\n",
       "      <td>5.000000e-01</td>\n",
       "      <td>1.920000e+00</td>\n",
       "      <td>0.000000e+00</td>\n",
       "      <td>3.000000e-01</td>\n",
       "      <td>1.480000e+01</td>\n",
       "      <td>2.500000e+00</td>\n",
       "    </tr>\n",
       "    <tr>\n",
       "      <th>75%</th>\n",
       "      <td>2.000000e+00</td>\n",
       "      <td>2.000000e+00</td>\n",
       "      <td>3.030000e+00</td>\n",
       "      <td>1.000000e+00</td>\n",
       "      <td>2.330000e+02</td>\n",
       "      <td>2.340000e+02</td>\n",
       "      <td>2.000000e+00</td>\n",
       "      <td>1.543000e+01</td>\n",
       "      <td>2.500000e+00</td>\n",
       "      <td>5.000000e-01</td>\n",
       "      <td>3.000000e+00</td>\n",
       "      <td>0.000000e+00</td>\n",
       "      <td>3.000000e-01</td>\n",
       "      <td>2.135000e+01</td>\n",
       "      <td>2.500000e+00</td>\n",
       "    </tr>\n",
       "    <tr>\n",
       "      <th>max</th>\n",
       "      <td>2.000000e+00</td>\n",
       "      <td>9.000000e+00</td>\n",
       "      <td>1.913018e+04</td>\n",
       "      <td>9.900000e+01</td>\n",
       "      <td>2.650000e+02</td>\n",
       "      <td>2.650000e+02</td>\n",
       "      <td>5.000000e+00</td>\n",
       "      <td>3.984684e+05</td>\n",
       "      <td>9.006000e+01</td>\n",
       "      <td>3.300000e+00</td>\n",
       "      <td>4.044400e+02</td>\n",
       "      <td>6.126600e+02</td>\n",
       "      <td>3.000000e-01</td>\n",
       "      <td>3.984712e+05</td>\n",
       "      <td>3.000000e+00</td>\n",
       "    </tr>\n",
       "  </tbody>\n",
       "</table>\n",
       "</div>"
      ],
      "text/plain": [
       "           VendorID  passenger_count  ...  total_amount  congestion_surcharge\n",
       "count  6.845299e+06     6.845299e+06  ...  6.896317e+06          6.896317e+06\n",
       "mean   1.666457e+00     1.550877e+00  ...  1.964165e+01          2.275278e+00\n",
       "std    4.714787e-01     1.174330e+00  ...  1.525236e+02          7.359669e-01\n",
       "min    1.000000e+00     0.000000e+00  ... -1.472800e+03         -2.500000e+00\n",
       "25%    1.000000e+00     1.000000e+00  ...  1.130000e+01          2.500000e+00\n",
       "50%    2.000000e+00     1.000000e+00  ...  1.480000e+01          2.500000e+00\n",
       "75%    2.000000e+00     2.000000e+00  ...  2.135000e+01          2.500000e+00\n",
       "max    2.000000e+00     9.000000e+00  ...  3.984712e+05          3.000000e+00\n",
       "\n",
       "[8 rows x 15 columns]"
      ]
     },
     "execution_count": 9,
     "metadata": {
      "tags": []
     },
     "output_type": "execute_result"
    }
   ],
   "source": [
    "data.describe()"
   ]
  },
  {
   "cell_type": "code",
   "execution_count": null,
   "metadata": {
    "colab": {
     "base_uri": "https://localhost:8080/",
     "height": 224
    },
    "colab_type": "code",
    "id": "TuGqGSOv1k4M",
    "outputId": "7dbcd0c2-e8ff-47cb-83ba-c25fee61b21a"
   },
   "outputs": [
    {
     "data": {
      "text/html": [
       "<div>\n",
       "<style scoped>\n",
       "    .dataframe tbody tr th:only-of-type {\n",
       "        vertical-align: middle;\n",
       "    }\n",
       "\n",
       "    .dataframe tbody tr th {\n",
       "        vertical-align: top;\n",
       "    }\n",
       "\n",
       "    .dataframe thead th {\n",
       "        text-align: right;\n",
       "    }\n",
       "</style>\n",
       "<table border=\"1\" class=\"dataframe\">\n",
       "  <thead>\n",
       "    <tr style=\"text-align: right;\">\n",
       "      <th></th>\n",
       "      <th>VendorID</th>\n",
       "      <th>tpep_pickup_datetime</th>\n",
       "      <th>tpep_dropoff_datetime</th>\n",
       "      <th>passenger_count</th>\n",
       "      <th>trip_distance</th>\n",
       "      <th>RatecodeID</th>\n",
       "      <th>store_and_fwd_flag</th>\n",
       "      <th>PULocationID</th>\n",
       "      <th>DOLocationID</th>\n",
       "      <th>payment_type</th>\n",
       "      <th>fare_amount</th>\n",
       "      <th>extra</th>\n",
       "      <th>mta_tax</th>\n",
       "      <th>tip_amount</th>\n",
       "      <th>tolls_amount</th>\n",
       "      <th>improvement_surcharge</th>\n",
       "      <th>total_amount</th>\n",
       "      <th>congestion_surcharge</th>\n",
       "    </tr>\n",
       "  </thead>\n",
       "  <tbody>\n",
       "    <tr>\n",
       "      <th>0</th>\n",
       "      <td>1.0</td>\n",
       "      <td>2019-12-01 00:26:58</td>\n",
       "      <td>2019-12-01 00:41:45</td>\n",
       "      <td>1.0</td>\n",
       "      <td>4.2</td>\n",
       "      <td>1.0</td>\n",
       "      <td>N</td>\n",
       "      <td>142</td>\n",
       "      <td>116</td>\n",
       "      <td>2.0</td>\n",
       "      <td>14.5</td>\n",
       "      <td>3.0</td>\n",
       "      <td>0.5</td>\n",
       "      <td>0.0</td>\n",
       "      <td>0.0</td>\n",
       "      <td>0.3</td>\n",
       "      <td>18.3</td>\n",
       "      <td>2.5</td>\n",
       "    </tr>\n",
       "    <tr>\n",
       "      <th>1</th>\n",
       "      <td>1.0</td>\n",
       "      <td>2019-12-01 00:12:08</td>\n",
       "      <td>2019-12-01 00:12:14</td>\n",
       "      <td>1.0</td>\n",
       "      <td>0.0</td>\n",
       "      <td>1.0</td>\n",
       "      <td>N</td>\n",
       "      <td>145</td>\n",
       "      <td>145</td>\n",
       "      <td>2.0</td>\n",
       "      <td>2.5</td>\n",
       "      <td>0.5</td>\n",
       "      <td>0.5</td>\n",
       "      <td>0.0</td>\n",
       "      <td>0.0</td>\n",
       "      <td>0.3</td>\n",
       "      <td>3.8</td>\n",
       "      <td>0.0</td>\n",
       "    </tr>\n",
       "    <tr>\n",
       "      <th>2</th>\n",
       "      <td>1.0</td>\n",
       "      <td>2019-12-01 00:25:53</td>\n",
       "      <td>2019-12-01 00:26:04</td>\n",
       "      <td>1.0</td>\n",
       "      <td>0.0</td>\n",
       "      <td>1.0</td>\n",
       "      <td>N</td>\n",
       "      <td>145</td>\n",
       "      <td>145</td>\n",
       "      <td>2.0</td>\n",
       "      <td>2.5</td>\n",
       "      <td>0.5</td>\n",
       "      <td>0.5</td>\n",
       "      <td>0.0</td>\n",
       "      <td>0.0</td>\n",
       "      <td>0.3</td>\n",
       "      <td>3.8</td>\n",
       "      <td>0.0</td>\n",
       "    </tr>\n",
       "    <tr>\n",
       "      <th>3</th>\n",
       "      <td>1.0</td>\n",
       "      <td>2019-12-01 00:12:03</td>\n",
       "      <td>2019-12-01 00:33:19</td>\n",
       "      <td>2.0</td>\n",
       "      <td>9.4</td>\n",
       "      <td>1.0</td>\n",
       "      <td>N</td>\n",
       "      <td>138</td>\n",
       "      <td>25</td>\n",
       "      <td>1.0</td>\n",
       "      <td>28.5</td>\n",
       "      <td>0.5</td>\n",
       "      <td>0.5</td>\n",
       "      <td>10.0</td>\n",
       "      <td>0.0</td>\n",
       "      <td>0.3</td>\n",
       "      <td>39.8</td>\n",
       "      <td>0.0</td>\n",
       "    </tr>\n",
       "    <tr>\n",
       "      <th>4</th>\n",
       "      <td>1.0</td>\n",
       "      <td>2019-12-01 00:05:27</td>\n",
       "      <td>2019-12-01 00:16:32</td>\n",
       "      <td>2.0</td>\n",
       "      <td>1.6</td>\n",
       "      <td>1.0</td>\n",
       "      <td>N</td>\n",
       "      <td>161</td>\n",
       "      <td>237</td>\n",
       "      <td>2.0</td>\n",
       "      <td>9.0</td>\n",
       "      <td>3.0</td>\n",
       "      <td>0.5</td>\n",
       "      <td>0.0</td>\n",
       "      <td>0.0</td>\n",
       "      <td>0.3</td>\n",
       "      <td>12.8</td>\n",
       "      <td>2.5</td>\n",
       "    </tr>\n",
       "  </tbody>\n",
       "</table>\n",
       "</div>"
      ],
      "text/plain": [
       "   VendorID tpep_pickup_datetime  ... total_amount  congestion_surcharge\n",
       "0       1.0  2019-12-01 00:26:58  ...         18.3                   2.5\n",
       "1       1.0  2019-12-01 00:12:08  ...          3.8                   0.0\n",
       "2       1.0  2019-12-01 00:25:53  ...          3.8                   0.0\n",
       "3       1.0  2019-12-01 00:12:03  ...         39.8                   0.0\n",
       "4       1.0  2019-12-01 00:05:27  ...         12.8                   2.5\n",
       "\n",
       "[5 rows x 18 columns]"
      ]
     },
     "execution_count": 10,
     "metadata": {
      "tags": []
     },
     "output_type": "execute_result"
    }
   ],
   "source": [
    "data.head()"
   ]
  },
  {
   "cell_type": "code",
   "execution_count": null,
   "metadata": {
    "colab": {
     "base_uri": "https://localhost:8080/",
     "height": 379
    },
    "colab_type": "code",
    "id": "ZNCAPIxJ2nFx",
    "outputId": "3cad9dad-2bc1-472a-c5d9-7e2e035b94e5"
   },
   "outputs": [
    {
     "data": {
      "text/html": [
       "<div>\n",
       "<style scoped>\n",
       "    .dataframe tbody tr th:only-of-type {\n",
       "        vertical-align: middle;\n",
       "    }\n",
       "\n",
       "    .dataframe tbody tr th {\n",
       "        vertical-align: top;\n",
       "    }\n",
       "\n",
       "    .dataframe thead th {\n",
       "        text-align: right;\n",
       "    }\n",
       "</style>\n",
       "<table border=\"1\" class=\"dataframe\">\n",
       "  <thead>\n",
       "    <tr style=\"text-align: right;\">\n",
       "      <th></th>\n",
       "      <th>VendorID</th>\n",
       "      <th>tpep_pickup_datetime</th>\n",
       "      <th>tpep_dropoff_datetime</th>\n",
       "      <th>passenger_count</th>\n",
       "      <th>trip_distance</th>\n",
       "      <th>RatecodeID</th>\n",
       "      <th>store_and_fwd_flag</th>\n",
       "      <th>PULocationID</th>\n",
       "      <th>DOLocationID</th>\n",
       "      <th>payment_type</th>\n",
       "      <th>fare_amount</th>\n",
       "      <th>extra</th>\n",
       "      <th>mta_tax</th>\n",
       "      <th>tip_amount</th>\n",
       "      <th>tolls_amount</th>\n",
       "      <th>improvement_surcharge</th>\n",
       "      <th>total_amount</th>\n",
       "      <th>congestion_surcharge</th>\n",
       "    </tr>\n",
       "  </thead>\n",
       "  <tbody>\n",
       "    <tr>\n",
       "      <th>4337748</th>\n",
       "      <td>2.0</td>\n",
       "      <td>2019-12-18 16:44:27</td>\n",
       "      <td>2019-12-18 17:57:40</td>\n",
       "      <td>1.0</td>\n",
       "      <td>10.24</td>\n",
       "      <td>1.0</td>\n",
       "      <td>N</td>\n",
       "      <td>138</td>\n",
       "      <td>163</td>\n",
       "      <td>1.0</td>\n",
       "      <td>46.5</td>\n",
       "      <td>1.0</td>\n",
       "      <td>0.5</td>\n",
       "      <td>11.38</td>\n",
       "      <td>6.12</td>\n",
       "      <td>0.3</td>\n",
       "      <td>68.30</td>\n",
       "      <td>2.5</td>\n",
       "    </tr>\n",
       "    <tr>\n",
       "      <th>2931379</th>\n",
       "      <td>2.0</td>\n",
       "      <td>2019-12-13 00:34:22</td>\n",
       "      <td>2019-12-13 00:37:56</td>\n",
       "      <td>3.0</td>\n",
       "      <td>0.50</td>\n",
       "      <td>1.0</td>\n",
       "      <td>N</td>\n",
       "      <td>234</td>\n",
       "      <td>90</td>\n",
       "      <td>1.0</td>\n",
       "      <td>4.5</td>\n",
       "      <td>0.5</td>\n",
       "      <td>0.5</td>\n",
       "      <td>0.83</td>\n",
       "      <td>0.00</td>\n",
       "      <td>0.3</td>\n",
       "      <td>9.13</td>\n",
       "      <td>2.5</td>\n",
       "    </tr>\n",
       "    <tr>\n",
       "      <th>1302092</th>\n",
       "      <td>1.0</td>\n",
       "      <td>2019-12-06 15:52:12</td>\n",
       "      <td>2019-12-06 16:07:32</td>\n",
       "      <td>1.0</td>\n",
       "      <td>1.70</td>\n",
       "      <td>1.0</td>\n",
       "      <td>N</td>\n",
       "      <td>162</td>\n",
       "      <td>137</td>\n",
       "      <td>2.0</td>\n",
       "      <td>10.5</td>\n",
       "      <td>3.5</td>\n",
       "      <td>0.5</td>\n",
       "      <td>0.00</td>\n",
       "      <td>0.00</td>\n",
       "      <td>0.3</td>\n",
       "      <td>14.80</td>\n",
       "      <td>2.5</td>\n",
       "    </tr>\n",
       "    <tr>\n",
       "      <th>2694256</th>\n",
       "      <td>2.0</td>\n",
       "      <td>2019-12-12 08:45:23</td>\n",
       "      <td>2019-12-12 08:50:51</td>\n",
       "      <td>1.0</td>\n",
       "      <td>1.49</td>\n",
       "      <td>1.0</td>\n",
       "      <td>N</td>\n",
       "      <td>75</td>\n",
       "      <td>237</td>\n",
       "      <td>2.0</td>\n",
       "      <td>6.5</td>\n",
       "      <td>0.0</td>\n",
       "      <td>0.5</td>\n",
       "      <td>0.00</td>\n",
       "      <td>0.00</td>\n",
       "      <td>0.3</td>\n",
       "      <td>9.80</td>\n",
       "      <td>2.5</td>\n",
       "    </tr>\n",
       "    <tr>\n",
       "      <th>4175230</th>\n",
       "      <td>1.0</td>\n",
       "      <td>2019-12-17 22:04:14</td>\n",
       "      <td>2019-12-17 22:09:55</td>\n",
       "      <td>2.0</td>\n",
       "      <td>1.20</td>\n",
       "      <td>1.0</td>\n",
       "      <td>N</td>\n",
       "      <td>143</td>\n",
       "      <td>48</td>\n",
       "      <td>1.0</td>\n",
       "      <td>6.5</td>\n",
       "      <td>3.0</td>\n",
       "      <td>0.5</td>\n",
       "      <td>2.55</td>\n",
       "      <td>0.00</td>\n",
       "      <td>0.3</td>\n",
       "      <td>12.85</td>\n",
       "      <td>2.5</td>\n",
       "    </tr>\n",
       "    <tr>\n",
       "      <th>6562239</th>\n",
       "      <td>2.0</td>\n",
       "      <td>2019-12-30 12:17:29</td>\n",
       "      <td>2019-12-30 12:27:08</td>\n",
       "      <td>3.0</td>\n",
       "      <td>1.13</td>\n",
       "      <td>1.0</td>\n",
       "      <td>N</td>\n",
       "      <td>162</td>\n",
       "      <td>163</td>\n",
       "      <td>2.0</td>\n",
       "      <td>7.5</td>\n",
       "      <td>0.0</td>\n",
       "      <td>0.5</td>\n",
       "      <td>0.00</td>\n",
       "      <td>0.00</td>\n",
       "      <td>0.3</td>\n",
       "      <td>10.80</td>\n",
       "      <td>2.5</td>\n",
       "    </tr>\n",
       "    <tr>\n",
       "      <th>1580307</th>\n",
       "      <td>1.0</td>\n",
       "      <td>2019-12-07 16:53:47</td>\n",
       "      <td>2019-12-07 17:42:33</td>\n",
       "      <td>1.0</td>\n",
       "      <td>7.90</td>\n",
       "      <td>1.0</td>\n",
       "      <td>N</td>\n",
       "      <td>90</td>\n",
       "      <td>188</td>\n",
       "      <td>2.0</td>\n",
       "      <td>32.5</td>\n",
       "      <td>2.5</td>\n",
       "      <td>0.5</td>\n",
       "      <td>0.00</td>\n",
       "      <td>0.00</td>\n",
       "      <td>0.3</td>\n",
       "      <td>35.80</td>\n",
       "      <td>2.5</td>\n",
       "    </tr>\n",
       "    <tr>\n",
       "      <th>2511804</th>\n",
       "      <td>1.0</td>\n",
       "      <td>2019-12-11 15:50:13</td>\n",
       "      <td>2019-12-11 16:01:25</td>\n",
       "      <td>1.0</td>\n",
       "      <td>2.70</td>\n",
       "      <td>1.0</td>\n",
       "      <td>N</td>\n",
       "      <td>262</td>\n",
       "      <td>74</td>\n",
       "      <td>2.0</td>\n",
       "      <td>10.5</td>\n",
       "      <td>2.5</td>\n",
       "      <td>0.5</td>\n",
       "      <td>0.00</td>\n",
       "      <td>0.00</td>\n",
       "      <td>0.3</td>\n",
       "      <td>13.80</td>\n",
       "      <td>2.5</td>\n",
       "    </tr>\n",
       "    <tr>\n",
       "      <th>3284524</th>\n",
       "      <td>2.0</td>\n",
       "      <td>2019-12-14 11:23:40</td>\n",
       "      <td>2019-12-14 11:40:42</td>\n",
       "      <td>1.0</td>\n",
       "      <td>3.15</td>\n",
       "      <td>1.0</td>\n",
       "      <td>N</td>\n",
       "      <td>79</td>\n",
       "      <td>161</td>\n",
       "      <td>1.0</td>\n",
       "      <td>14.0</td>\n",
       "      <td>0.0</td>\n",
       "      <td>0.5</td>\n",
       "      <td>3.46</td>\n",
       "      <td>0.00</td>\n",
       "      <td>0.3</td>\n",
       "      <td>20.76</td>\n",
       "      <td>2.5</td>\n",
       "    </tr>\n",
       "    <tr>\n",
       "      <th>2953185</th>\n",
       "      <td>2.0</td>\n",
       "      <td>2019-12-13 04:51:08</td>\n",
       "      <td>2019-12-13 05:20:52</td>\n",
       "      <td>5.0</td>\n",
       "      <td>16.64</td>\n",
       "      <td>2.0</td>\n",
       "      <td>N</td>\n",
       "      <td>161</td>\n",
       "      <td>132</td>\n",
       "      <td>2.0</td>\n",
       "      <td>52.0</td>\n",
       "      <td>0.0</td>\n",
       "      <td>0.5</td>\n",
       "      <td>0.00</td>\n",
       "      <td>0.00</td>\n",
       "      <td>0.3</td>\n",
       "      <td>55.30</td>\n",
       "      <td>2.5</td>\n",
       "    </tr>\n",
       "  </tbody>\n",
       "</table>\n",
       "</div>"
      ],
      "text/plain": [
       "         VendorID tpep_pickup_datetime  ... total_amount  congestion_surcharge\n",
       "4337748       2.0  2019-12-18 16:44:27  ...        68.30                   2.5\n",
       "2931379       2.0  2019-12-13 00:34:22  ...         9.13                   2.5\n",
       "1302092       1.0  2019-12-06 15:52:12  ...        14.80                   2.5\n",
       "2694256       2.0  2019-12-12 08:45:23  ...         9.80                   2.5\n",
       "4175230       1.0  2019-12-17 22:04:14  ...        12.85                   2.5\n",
       "6562239       2.0  2019-12-30 12:17:29  ...        10.80                   2.5\n",
       "1580307       1.0  2019-12-07 16:53:47  ...        35.80                   2.5\n",
       "2511804       1.0  2019-12-11 15:50:13  ...        13.80                   2.5\n",
       "3284524       2.0  2019-12-14 11:23:40  ...        20.76                   2.5\n",
       "2953185       2.0  2019-12-13 04:51:08  ...        55.30                   2.5\n",
       "\n",
       "[10 rows x 18 columns]"
      ]
     },
     "execution_count": 11,
     "metadata": {
      "tags": []
     },
     "output_type": "execute_result"
    }
   ],
   "source": [
    "data.sample(10)"
   ]
  },
  {
   "cell_type": "code",
   "execution_count": null,
   "metadata": {
    "colab": {
     "base_uri": "https://localhost:8080/",
     "height": 224
    },
    "colab_type": "code",
    "id": "1urnzUq91ti2",
    "outputId": "0bf4177f-dbb8-48f1-93a8-86d16e8b2c8f"
   },
   "outputs": [
    {
     "data": {
      "text/html": [
       "<div>\n",
       "<style scoped>\n",
       "    .dataframe tbody tr th:only-of-type {\n",
       "        vertical-align: middle;\n",
       "    }\n",
       "\n",
       "    .dataframe tbody tr th {\n",
       "        vertical-align: top;\n",
       "    }\n",
       "\n",
       "    .dataframe thead th {\n",
       "        text-align: right;\n",
       "    }\n",
       "</style>\n",
       "<table border=\"1\" class=\"dataframe\">\n",
       "  <thead>\n",
       "    <tr style=\"text-align: right;\">\n",
       "      <th></th>\n",
       "      <th>VendorID</th>\n",
       "      <th>tpep_pickup_datetime</th>\n",
       "      <th>tpep_dropoff_datetime</th>\n",
       "      <th>passenger_count</th>\n",
       "      <th>trip_distance</th>\n",
       "      <th>RatecodeID</th>\n",
       "      <th>store_and_fwd_flag</th>\n",
       "      <th>PULocationID</th>\n",
       "      <th>DOLocationID</th>\n",
       "      <th>payment_type</th>\n",
       "      <th>fare_amount</th>\n",
       "      <th>extra</th>\n",
       "      <th>mta_tax</th>\n",
       "      <th>tip_amount</th>\n",
       "      <th>tolls_amount</th>\n",
       "      <th>improvement_surcharge</th>\n",
       "      <th>total_amount</th>\n",
       "      <th>congestion_surcharge</th>\n",
       "    </tr>\n",
       "  </thead>\n",
       "  <tbody>\n",
       "    <tr>\n",
       "      <th>6896312</th>\n",
       "      <td>NaN</td>\n",
       "      <td>2019-12-31 00:07:00</td>\n",
       "      <td>2019-12-31 00:46:00</td>\n",
       "      <td>NaN</td>\n",
       "      <td>12.78</td>\n",
       "      <td>NaN</td>\n",
       "      <td>NaN</td>\n",
       "      <td>230</td>\n",
       "      <td>72</td>\n",
       "      <td>NaN</td>\n",
       "      <td>32.32</td>\n",
       "      <td>2.75</td>\n",
       "      <td>0.5</td>\n",
       "      <td>0.0</td>\n",
       "      <td>6.12</td>\n",
       "      <td>0.3</td>\n",
       "      <td>41.99</td>\n",
       "      <td>0.0</td>\n",
       "    </tr>\n",
       "    <tr>\n",
       "      <th>6896313</th>\n",
       "      <td>NaN</td>\n",
       "      <td>2019-12-31 00:20:00</td>\n",
       "      <td>2019-12-31 00:47:00</td>\n",
       "      <td>NaN</td>\n",
       "      <td>18.52</td>\n",
       "      <td>NaN</td>\n",
       "      <td>NaN</td>\n",
       "      <td>219</td>\n",
       "      <td>32</td>\n",
       "      <td>NaN</td>\n",
       "      <td>51.63</td>\n",
       "      <td>2.75</td>\n",
       "      <td>0.5</td>\n",
       "      <td>0.0</td>\n",
       "      <td>6.12</td>\n",
       "      <td>0.3</td>\n",
       "      <td>61.30</td>\n",
       "      <td>0.0</td>\n",
       "    </tr>\n",
       "    <tr>\n",
       "      <th>6896314</th>\n",
       "      <td>NaN</td>\n",
       "      <td>2019-12-31 00:50:00</td>\n",
       "      <td>2019-12-31 01:21:00</td>\n",
       "      <td>NaN</td>\n",
       "      <td>13.13</td>\n",
       "      <td>NaN</td>\n",
       "      <td>NaN</td>\n",
       "      <td>161</td>\n",
       "      <td>76</td>\n",
       "      <td>NaN</td>\n",
       "      <td>38.02</td>\n",
       "      <td>2.75</td>\n",
       "      <td>0.5</td>\n",
       "      <td>0.0</td>\n",
       "      <td>6.12</td>\n",
       "      <td>0.3</td>\n",
       "      <td>47.69</td>\n",
       "      <td>0.0</td>\n",
       "    </tr>\n",
       "    <tr>\n",
       "      <th>6896315</th>\n",
       "      <td>NaN</td>\n",
       "      <td>2019-12-31 00:38:19</td>\n",
       "      <td>2019-12-31 01:19:37</td>\n",
       "      <td>NaN</td>\n",
       "      <td>14.51</td>\n",
       "      <td>NaN</td>\n",
       "      <td>NaN</td>\n",
       "      <td>230</td>\n",
       "      <td>21</td>\n",
       "      <td>NaN</td>\n",
       "      <td>41.86</td>\n",
       "      <td>2.75</td>\n",
       "      <td>0.0</td>\n",
       "      <td>0.0</td>\n",
       "      <td>6.12</td>\n",
       "      <td>0.3</td>\n",
       "      <td>51.03</td>\n",
       "      <td>0.0</td>\n",
       "    </tr>\n",
       "    <tr>\n",
       "      <th>6896316</th>\n",
       "      <td>NaN</td>\n",
       "      <td>2019-12-31 00:21:00</td>\n",
       "      <td>2019-12-31 00:56:00</td>\n",
       "      <td>NaN</td>\n",
       "      <td>-17.16</td>\n",
       "      <td>NaN</td>\n",
       "      <td>NaN</td>\n",
       "      <td>193</td>\n",
       "      <td>219</td>\n",
       "      <td>NaN</td>\n",
       "      <td>44.62</td>\n",
       "      <td>2.75</td>\n",
       "      <td>0.5</td>\n",
       "      <td>0.0</td>\n",
       "      <td>0.00</td>\n",
       "      <td>0.3</td>\n",
       "      <td>48.17</td>\n",
       "      <td>0.0</td>\n",
       "    </tr>\n",
       "  </tbody>\n",
       "</table>\n",
       "</div>"
      ],
      "text/plain": [
       "         VendorID tpep_pickup_datetime  ... total_amount  congestion_surcharge\n",
       "6896312       NaN  2019-12-31 00:07:00  ...        41.99                   0.0\n",
       "6896313       NaN  2019-12-31 00:20:00  ...        61.30                   0.0\n",
       "6896314       NaN  2019-12-31 00:50:00  ...        47.69                   0.0\n",
       "6896315       NaN  2019-12-31 00:38:19  ...        51.03                   0.0\n",
       "6896316       NaN  2019-12-31 00:21:00  ...        48.17                   0.0\n",
       "\n",
       "[5 rows x 18 columns]"
      ]
     },
     "execution_count": 12,
     "metadata": {
      "tags": []
     },
     "output_type": "execute_result"
    }
   ],
   "source": [
    "data.tail()"
   ]
  },
  {
   "cell_type": "markdown",
   "metadata": {
    "colab_type": "text",
    "id": "I5lmfgXhX_It"
   },
   "source": [
    "#### Conclusion\n",
    "*   VendorID contain only two values 1.0 and 2.0, it indicate that there are two taxi companies in New York city.\n",
    "*   The taxi can provide services minimum 1 person and maximum 9 person at a time.\n",
    "*   There are five method to pay amount for the services by customer to taxi driver\n",
    "*   The field store_and_fwd_flag contain only \"N\" and \"Y\".\n",
    "\"N\" indicates that the trip data was sent immediately and \"Y\" indecates that held in the memory of taxi.\n",
    "*   The taxi always available either day or night.\n",
    "*   The data have missing value which is not good for analysiss of the data."
   ]
  },
  {
   "cell_type": "markdown",
   "metadata": {
    "colab_type": "text",
    "id": "i2aYjpzD5grf"
   },
   "source": [
    "### 1.5 Missing value\n",
    "Missing value is important to know of the data because it create many issues for extracting useful information, good analysis of data, creation of best model and so on.\n",
    "Many modelling procedures break down when missing values are involved and the corresponding rows will either have to be removed completely or the values need to be estimated somehow.\n",
    "\n",
    "If data have missing values then remove or fill those missing value accoring to data or challenge or goal with  data."
   ]
  },
  {
   "cell_type": "code",
   "execution_count": null,
   "metadata": {
    "colab": {
     "base_uri": "https://localhost:8080/",
     "height": 340
    },
    "colab_type": "code",
    "id": "mIpXSSoR13J1",
    "outputId": "502d7771-6ff3-45b2-efa6-9bf31e9d15a8"
   },
   "outputs": [
    {
     "data": {
      "text/plain": [
       "VendorID                 51018\n",
       "tpep_pickup_datetime         0\n",
       "tpep_dropoff_datetime        0\n",
       "passenger_count          51018\n",
       "trip_distance                0\n",
       "RatecodeID               51018\n",
       "store_and_fwd_flag       51018\n",
       "PULocationID                 0\n",
       "DOLocationID                 0\n",
       "payment_type             51018\n",
       "fare_amount                  0\n",
       "extra                        0\n",
       "mta_tax                      0\n",
       "tip_amount                   0\n",
       "tolls_amount                 0\n",
       "improvement_surcharge        0\n",
       "total_amount                 0\n",
       "congestion_surcharge         0\n",
       "dtype: int64"
      ]
     },
     "execution_count": 13,
     "metadata": {
      "tags": []
     },
     "output_type": "execute_result"
    }
   ],
   "source": [
    "data.isnull().sum()"
   ]
  },
  {
   "cell_type": "code",
   "execution_count": null,
   "metadata": {
    "colab": {
     "base_uri": "https://localhost:8080/",
     "height": 442
    },
    "colab_type": "code",
    "id": "fTqy-wjX2V-d",
    "outputId": "6442b23d-5e2f-46bb-8ad2-18774c3863d3"
   },
   "outputs": [
    {
     "name": "stdout",
     "output_type": "stream",
     "text": [
      "<class 'pandas.core.frame.DataFrame'>\n",
      "RangeIndex: 6896317 entries, 0 to 6896316\n",
      "Data columns (total 18 columns):\n",
      " #   Column                 Dtype  \n",
      "---  ------                 -----  \n",
      " 0   VendorID               float64\n",
      " 1   tpep_pickup_datetime   object \n",
      " 2   tpep_dropoff_datetime  object \n",
      " 3   passenger_count        float64\n",
      " 4   trip_distance          float64\n",
      " 5   RatecodeID             float64\n",
      " 6   store_and_fwd_flag     object \n",
      " 7   PULocationID           int64  \n",
      " 8   DOLocationID           int64  \n",
      " 9   payment_type           float64\n",
      " 10  fare_amount            float64\n",
      " 11  extra                  float64\n",
      " 12  mta_tax                float64\n",
      " 13  tip_amount             float64\n",
      " 14  tolls_amount           float64\n",
      " 15  improvement_surcharge  float64\n",
      " 16  total_amount           float64\n",
      " 17  congestion_surcharge   float64\n",
      "dtypes: float64(13), int64(2), object(3)\n",
      "memory usage: 947.1+ MB\n"
     ]
    }
   ],
   "source": [
    "data.info()"
   ]
  },
  {
   "cell_type": "code",
   "execution_count": null,
   "metadata": {
    "colab": {
     "base_uri": "https://localhost:8080/",
     "height": 439
    },
    "colab_type": "code",
    "id": "P-EiwM8Q5Nz2",
    "outputId": "a3b5da4f-d24b-45f8-b659-e25699014ce2"
   },
   "outputs": [
    {
     "data": {
      "text/html": [
       "<div>\n",
       "<style scoped>\n",
       "    .dataframe tbody tr th:only-of-type {\n",
       "        vertical-align: middle;\n",
       "    }\n",
       "\n",
       "    .dataframe tbody tr th {\n",
       "        vertical-align: top;\n",
       "    }\n",
       "\n",
       "    .dataframe thead th {\n",
       "        text-align: right;\n",
       "    }\n",
       "</style>\n",
       "<table border=\"1\" class=\"dataframe\">\n",
       "  <thead>\n",
       "    <tr style=\"text-align: right;\">\n",
       "      <th></th>\n",
       "      <th>VendorID</th>\n",
       "      <th>tpep_pickup_datetime</th>\n",
       "      <th>tpep_dropoff_datetime</th>\n",
       "      <th>passenger_count</th>\n",
       "      <th>trip_distance</th>\n",
       "      <th>RatecodeID</th>\n",
       "      <th>store_and_fwd_flag</th>\n",
       "      <th>PULocationID</th>\n",
       "      <th>DOLocationID</th>\n",
       "      <th>payment_type</th>\n",
       "      <th>fare_amount</th>\n",
       "      <th>extra</th>\n",
       "      <th>mta_tax</th>\n",
       "      <th>tip_amount</th>\n",
       "      <th>tolls_amount</th>\n",
       "      <th>improvement_surcharge</th>\n",
       "      <th>total_amount</th>\n",
       "      <th>congestion_surcharge</th>\n",
       "    </tr>\n",
       "  </thead>\n",
       "  <tbody>\n",
       "    <tr>\n",
       "      <th>6845299</th>\n",
       "      <td>NaN</td>\n",
       "      <td>2019-12-01 11:29:00</td>\n",
       "      <td>2019-12-01 12:17:00</td>\n",
       "      <td>NaN</td>\n",
       "      <td>18.21</td>\n",
       "      <td>NaN</td>\n",
       "      <td>NaN</td>\n",
       "      <td>107</td>\n",
       "      <td>76</td>\n",
       "      <td>NaN</td>\n",
       "      <td>29.53</td>\n",
       "      <td>2.75</td>\n",
       "      <td>0.5</td>\n",
       "      <td>0.0</td>\n",
       "      <td>6.12</td>\n",
       "      <td>0.3</td>\n",
       "      <td>39.20</td>\n",
       "      <td>0.0</td>\n",
       "    </tr>\n",
       "    <tr>\n",
       "      <th>6845300</th>\n",
       "      <td>NaN</td>\n",
       "      <td>2019-12-01 11:40:42</td>\n",
       "      <td>2019-12-01 12:00:04</td>\n",
       "      <td>NaN</td>\n",
       "      <td>7.92</td>\n",
       "      <td>NaN</td>\n",
       "      <td>NaN</td>\n",
       "      <td>263</td>\n",
       "      <td>182</td>\n",
       "      <td>NaN</td>\n",
       "      <td>30.33</td>\n",
       "      <td>2.75</td>\n",
       "      <td>0.0</td>\n",
       "      <td>0.0</td>\n",
       "      <td>6.12</td>\n",
       "      <td>0.3</td>\n",
       "      <td>39.50</td>\n",
       "      <td>0.0</td>\n",
       "    </tr>\n",
       "    <tr>\n",
       "      <th>6845301</th>\n",
       "      <td>NaN</td>\n",
       "      <td>2019-12-01 11:00:00</td>\n",
       "      <td>2019-12-01 11:37:00</td>\n",
       "      <td>NaN</td>\n",
       "      <td>9.38</td>\n",
       "      <td>NaN</td>\n",
       "      <td>NaN</td>\n",
       "      <td>22</td>\n",
       "      <td>211</td>\n",
       "      <td>NaN</td>\n",
       "      <td>33.56</td>\n",
       "      <td>2.75</td>\n",
       "      <td>0.5</td>\n",
       "      <td>0.0</td>\n",
       "      <td>0.00</td>\n",
       "      <td>0.3</td>\n",
       "      <td>37.11</td>\n",
       "      <td>0.0</td>\n",
       "    </tr>\n",
       "    <tr>\n",
       "      <th>6845302</th>\n",
       "      <td>NaN</td>\n",
       "      <td>2019-12-01 11:43:00</td>\n",
       "      <td>2019-12-01 12:16:00</td>\n",
       "      <td>NaN</td>\n",
       "      <td>11.39</td>\n",
       "      <td>NaN</td>\n",
       "      <td>NaN</td>\n",
       "      <td>121</td>\n",
       "      <td>90</td>\n",
       "      <td>NaN</td>\n",
       "      <td>42.23</td>\n",
       "      <td>2.75</td>\n",
       "      <td>0.5</td>\n",
       "      <td>0.0</td>\n",
       "      <td>6.12</td>\n",
       "      <td>0.3</td>\n",
       "      <td>51.90</td>\n",
       "      <td>0.0</td>\n",
       "    </tr>\n",
       "    <tr>\n",
       "      <th>6845303</th>\n",
       "      <td>NaN</td>\n",
       "      <td>2019-12-01 11:01:35</td>\n",
       "      <td>2019-12-01 11:17:58</td>\n",
       "      <td>NaN</td>\n",
       "      <td>3.01</td>\n",
       "      <td>NaN</td>\n",
       "      <td>NaN</td>\n",
       "      <td>75</td>\n",
       "      <td>163</td>\n",
       "      <td>NaN</td>\n",
       "      <td>21.18</td>\n",
       "      <td>2.75</td>\n",
       "      <td>0.0</td>\n",
       "      <td>0.0</td>\n",
       "      <td>0.00</td>\n",
       "      <td>0.3</td>\n",
       "      <td>24.23</td>\n",
       "      <td>0.0</td>\n",
       "    </tr>\n",
       "    <tr>\n",
       "      <th>...</th>\n",
       "      <td>...</td>\n",
       "      <td>...</td>\n",
       "      <td>...</td>\n",
       "      <td>...</td>\n",
       "      <td>...</td>\n",
       "      <td>...</td>\n",
       "      <td>...</td>\n",
       "      <td>...</td>\n",
       "      <td>...</td>\n",
       "      <td>...</td>\n",
       "      <td>...</td>\n",
       "      <td>...</td>\n",
       "      <td>...</td>\n",
       "      <td>...</td>\n",
       "      <td>...</td>\n",
       "      <td>...</td>\n",
       "      <td>...</td>\n",
       "      <td>...</td>\n",
       "    </tr>\n",
       "    <tr>\n",
       "      <th>6896312</th>\n",
       "      <td>NaN</td>\n",
       "      <td>2019-12-31 00:07:00</td>\n",
       "      <td>2019-12-31 00:46:00</td>\n",
       "      <td>NaN</td>\n",
       "      <td>12.78</td>\n",
       "      <td>NaN</td>\n",
       "      <td>NaN</td>\n",
       "      <td>230</td>\n",
       "      <td>72</td>\n",
       "      <td>NaN</td>\n",
       "      <td>32.32</td>\n",
       "      <td>2.75</td>\n",
       "      <td>0.5</td>\n",
       "      <td>0.0</td>\n",
       "      <td>6.12</td>\n",
       "      <td>0.3</td>\n",
       "      <td>41.99</td>\n",
       "      <td>0.0</td>\n",
       "    </tr>\n",
       "    <tr>\n",
       "      <th>6896313</th>\n",
       "      <td>NaN</td>\n",
       "      <td>2019-12-31 00:20:00</td>\n",
       "      <td>2019-12-31 00:47:00</td>\n",
       "      <td>NaN</td>\n",
       "      <td>18.52</td>\n",
       "      <td>NaN</td>\n",
       "      <td>NaN</td>\n",
       "      <td>219</td>\n",
       "      <td>32</td>\n",
       "      <td>NaN</td>\n",
       "      <td>51.63</td>\n",
       "      <td>2.75</td>\n",
       "      <td>0.5</td>\n",
       "      <td>0.0</td>\n",
       "      <td>6.12</td>\n",
       "      <td>0.3</td>\n",
       "      <td>61.30</td>\n",
       "      <td>0.0</td>\n",
       "    </tr>\n",
       "    <tr>\n",
       "      <th>6896314</th>\n",
       "      <td>NaN</td>\n",
       "      <td>2019-12-31 00:50:00</td>\n",
       "      <td>2019-12-31 01:21:00</td>\n",
       "      <td>NaN</td>\n",
       "      <td>13.13</td>\n",
       "      <td>NaN</td>\n",
       "      <td>NaN</td>\n",
       "      <td>161</td>\n",
       "      <td>76</td>\n",
       "      <td>NaN</td>\n",
       "      <td>38.02</td>\n",
       "      <td>2.75</td>\n",
       "      <td>0.5</td>\n",
       "      <td>0.0</td>\n",
       "      <td>6.12</td>\n",
       "      <td>0.3</td>\n",
       "      <td>47.69</td>\n",
       "      <td>0.0</td>\n",
       "    </tr>\n",
       "    <tr>\n",
       "      <th>6896315</th>\n",
       "      <td>NaN</td>\n",
       "      <td>2019-12-31 00:38:19</td>\n",
       "      <td>2019-12-31 01:19:37</td>\n",
       "      <td>NaN</td>\n",
       "      <td>14.51</td>\n",
       "      <td>NaN</td>\n",
       "      <td>NaN</td>\n",
       "      <td>230</td>\n",
       "      <td>21</td>\n",
       "      <td>NaN</td>\n",
       "      <td>41.86</td>\n",
       "      <td>2.75</td>\n",
       "      <td>0.0</td>\n",
       "      <td>0.0</td>\n",
       "      <td>6.12</td>\n",
       "      <td>0.3</td>\n",
       "      <td>51.03</td>\n",
       "      <td>0.0</td>\n",
       "    </tr>\n",
       "    <tr>\n",
       "      <th>6896316</th>\n",
       "      <td>NaN</td>\n",
       "      <td>2019-12-31 00:21:00</td>\n",
       "      <td>2019-12-31 00:56:00</td>\n",
       "      <td>NaN</td>\n",
       "      <td>-17.16</td>\n",
       "      <td>NaN</td>\n",
       "      <td>NaN</td>\n",
       "      <td>193</td>\n",
       "      <td>219</td>\n",
       "      <td>NaN</td>\n",
       "      <td>44.62</td>\n",
       "      <td>2.75</td>\n",
       "      <td>0.5</td>\n",
       "      <td>0.0</td>\n",
       "      <td>0.00</td>\n",
       "      <td>0.3</td>\n",
       "      <td>48.17</td>\n",
       "      <td>0.0</td>\n",
       "    </tr>\n",
       "  </tbody>\n",
       "</table>\n",
       "<p>51018 rows × 18 columns</p>\n",
       "</div>"
      ],
      "text/plain": [
       "         VendorID tpep_pickup_datetime  ... total_amount  congestion_surcharge\n",
       "6845299       NaN  2019-12-01 11:29:00  ...        39.20                   0.0\n",
       "6845300       NaN  2019-12-01 11:40:42  ...        39.50                   0.0\n",
       "6845301       NaN  2019-12-01 11:00:00  ...        37.11                   0.0\n",
       "6845302       NaN  2019-12-01 11:43:00  ...        51.90                   0.0\n",
       "6845303       NaN  2019-12-01 11:01:35  ...        24.23                   0.0\n",
       "...           ...                  ...  ...          ...                   ...\n",
       "6896312       NaN  2019-12-31 00:07:00  ...        41.99                   0.0\n",
       "6896313       NaN  2019-12-31 00:20:00  ...        61.30                   0.0\n",
       "6896314       NaN  2019-12-31 00:50:00  ...        47.69                   0.0\n",
       "6896315       NaN  2019-12-31 00:38:19  ...        51.03                   0.0\n",
       "6896316       NaN  2019-12-31 00:21:00  ...        48.17                   0.0\n",
       "\n",
       "[51018 rows x 18 columns]"
      ]
     },
     "execution_count": 15,
     "metadata": {
      "tags": []
     },
     "output_type": "execute_result"
    }
   ],
   "source": [
    "data[data['VendorID'].isna()]"
   ]
  },
  {
   "cell_type": "code",
   "execution_count": null,
   "metadata": {
    "colab": {
     "base_uri": "https://localhost:8080/",
     "height": 439
    },
    "colab_type": "code",
    "id": "l6O2erOP7O0R",
    "outputId": "7e476e84-0119-498d-81e3-0fea6e349c5b"
   },
   "outputs": [
    {
     "data": {
      "text/html": [
       "<div>\n",
       "<style scoped>\n",
       "    .dataframe tbody tr th:only-of-type {\n",
       "        vertical-align: middle;\n",
       "    }\n",
       "\n",
       "    .dataframe tbody tr th {\n",
       "        vertical-align: top;\n",
       "    }\n",
       "\n",
       "    .dataframe thead th {\n",
       "        text-align: right;\n",
       "    }\n",
       "</style>\n",
       "<table border=\"1\" class=\"dataframe\">\n",
       "  <thead>\n",
       "    <tr style=\"text-align: right;\">\n",
       "      <th></th>\n",
       "      <th>VendorID</th>\n",
       "      <th>tpep_pickup_datetime</th>\n",
       "      <th>tpep_dropoff_datetime</th>\n",
       "      <th>passenger_count</th>\n",
       "      <th>trip_distance</th>\n",
       "      <th>RatecodeID</th>\n",
       "      <th>store_and_fwd_flag</th>\n",
       "      <th>PULocationID</th>\n",
       "      <th>DOLocationID</th>\n",
       "      <th>payment_type</th>\n",
       "      <th>fare_amount</th>\n",
       "      <th>extra</th>\n",
       "      <th>mta_tax</th>\n",
       "      <th>tip_amount</th>\n",
       "      <th>tolls_amount</th>\n",
       "      <th>improvement_surcharge</th>\n",
       "      <th>total_amount</th>\n",
       "      <th>congestion_surcharge</th>\n",
       "    </tr>\n",
       "  </thead>\n",
       "  <tbody>\n",
       "    <tr>\n",
       "      <th>6845299</th>\n",
       "      <td>NaN</td>\n",
       "      <td>2019-12-01 11:29:00</td>\n",
       "      <td>2019-12-01 12:17:00</td>\n",
       "      <td>NaN</td>\n",
       "      <td>18.21</td>\n",
       "      <td>NaN</td>\n",
       "      <td>NaN</td>\n",
       "      <td>107</td>\n",
       "      <td>76</td>\n",
       "      <td>NaN</td>\n",
       "      <td>29.53</td>\n",
       "      <td>2.75</td>\n",
       "      <td>0.5</td>\n",
       "      <td>0.0</td>\n",
       "      <td>6.12</td>\n",
       "      <td>0.3</td>\n",
       "      <td>39.20</td>\n",
       "      <td>0.0</td>\n",
       "    </tr>\n",
       "    <tr>\n",
       "      <th>6845300</th>\n",
       "      <td>NaN</td>\n",
       "      <td>2019-12-01 11:40:42</td>\n",
       "      <td>2019-12-01 12:00:04</td>\n",
       "      <td>NaN</td>\n",
       "      <td>7.92</td>\n",
       "      <td>NaN</td>\n",
       "      <td>NaN</td>\n",
       "      <td>263</td>\n",
       "      <td>182</td>\n",
       "      <td>NaN</td>\n",
       "      <td>30.33</td>\n",
       "      <td>2.75</td>\n",
       "      <td>0.0</td>\n",
       "      <td>0.0</td>\n",
       "      <td>6.12</td>\n",
       "      <td>0.3</td>\n",
       "      <td>39.50</td>\n",
       "      <td>0.0</td>\n",
       "    </tr>\n",
       "    <tr>\n",
       "      <th>6845301</th>\n",
       "      <td>NaN</td>\n",
       "      <td>2019-12-01 11:00:00</td>\n",
       "      <td>2019-12-01 11:37:00</td>\n",
       "      <td>NaN</td>\n",
       "      <td>9.38</td>\n",
       "      <td>NaN</td>\n",
       "      <td>NaN</td>\n",
       "      <td>22</td>\n",
       "      <td>211</td>\n",
       "      <td>NaN</td>\n",
       "      <td>33.56</td>\n",
       "      <td>2.75</td>\n",
       "      <td>0.5</td>\n",
       "      <td>0.0</td>\n",
       "      <td>0.00</td>\n",
       "      <td>0.3</td>\n",
       "      <td>37.11</td>\n",
       "      <td>0.0</td>\n",
       "    </tr>\n",
       "    <tr>\n",
       "      <th>6845302</th>\n",
       "      <td>NaN</td>\n",
       "      <td>2019-12-01 11:43:00</td>\n",
       "      <td>2019-12-01 12:16:00</td>\n",
       "      <td>NaN</td>\n",
       "      <td>11.39</td>\n",
       "      <td>NaN</td>\n",
       "      <td>NaN</td>\n",
       "      <td>121</td>\n",
       "      <td>90</td>\n",
       "      <td>NaN</td>\n",
       "      <td>42.23</td>\n",
       "      <td>2.75</td>\n",
       "      <td>0.5</td>\n",
       "      <td>0.0</td>\n",
       "      <td>6.12</td>\n",
       "      <td>0.3</td>\n",
       "      <td>51.90</td>\n",
       "      <td>0.0</td>\n",
       "    </tr>\n",
       "    <tr>\n",
       "      <th>6845303</th>\n",
       "      <td>NaN</td>\n",
       "      <td>2019-12-01 11:01:35</td>\n",
       "      <td>2019-12-01 11:17:58</td>\n",
       "      <td>NaN</td>\n",
       "      <td>3.01</td>\n",
       "      <td>NaN</td>\n",
       "      <td>NaN</td>\n",
       "      <td>75</td>\n",
       "      <td>163</td>\n",
       "      <td>NaN</td>\n",
       "      <td>21.18</td>\n",
       "      <td>2.75</td>\n",
       "      <td>0.0</td>\n",
       "      <td>0.0</td>\n",
       "      <td>0.00</td>\n",
       "      <td>0.3</td>\n",
       "      <td>24.23</td>\n",
       "      <td>0.0</td>\n",
       "    </tr>\n",
       "    <tr>\n",
       "      <th>...</th>\n",
       "      <td>...</td>\n",
       "      <td>...</td>\n",
       "      <td>...</td>\n",
       "      <td>...</td>\n",
       "      <td>...</td>\n",
       "      <td>...</td>\n",
       "      <td>...</td>\n",
       "      <td>...</td>\n",
       "      <td>...</td>\n",
       "      <td>...</td>\n",
       "      <td>...</td>\n",
       "      <td>...</td>\n",
       "      <td>...</td>\n",
       "      <td>...</td>\n",
       "      <td>...</td>\n",
       "      <td>...</td>\n",
       "      <td>...</td>\n",
       "      <td>...</td>\n",
       "    </tr>\n",
       "    <tr>\n",
       "      <th>6896312</th>\n",
       "      <td>NaN</td>\n",
       "      <td>2019-12-31 00:07:00</td>\n",
       "      <td>2019-12-31 00:46:00</td>\n",
       "      <td>NaN</td>\n",
       "      <td>12.78</td>\n",
       "      <td>NaN</td>\n",
       "      <td>NaN</td>\n",
       "      <td>230</td>\n",
       "      <td>72</td>\n",
       "      <td>NaN</td>\n",
       "      <td>32.32</td>\n",
       "      <td>2.75</td>\n",
       "      <td>0.5</td>\n",
       "      <td>0.0</td>\n",
       "      <td>6.12</td>\n",
       "      <td>0.3</td>\n",
       "      <td>41.99</td>\n",
       "      <td>0.0</td>\n",
       "    </tr>\n",
       "    <tr>\n",
       "      <th>6896313</th>\n",
       "      <td>NaN</td>\n",
       "      <td>2019-12-31 00:20:00</td>\n",
       "      <td>2019-12-31 00:47:00</td>\n",
       "      <td>NaN</td>\n",
       "      <td>18.52</td>\n",
       "      <td>NaN</td>\n",
       "      <td>NaN</td>\n",
       "      <td>219</td>\n",
       "      <td>32</td>\n",
       "      <td>NaN</td>\n",
       "      <td>51.63</td>\n",
       "      <td>2.75</td>\n",
       "      <td>0.5</td>\n",
       "      <td>0.0</td>\n",
       "      <td>6.12</td>\n",
       "      <td>0.3</td>\n",
       "      <td>61.30</td>\n",
       "      <td>0.0</td>\n",
       "    </tr>\n",
       "    <tr>\n",
       "      <th>6896314</th>\n",
       "      <td>NaN</td>\n",
       "      <td>2019-12-31 00:50:00</td>\n",
       "      <td>2019-12-31 01:21:00</td>\n",
       "      <td>NaN</td>\n",
       "      <td>13.13</td>\n",
       "      <td>NaN</td>\n",
       "      <td>NaN</td>\n",
       "      <td>161</td>\n",
       "      <td>76</td>\n",
       "      <td>NaN</td>\n",
       "      <td>38.02</td>\n",
       "      <td>2.75</td>\n",
       "      <td>0.5</td>\n",
       "      <td>0.0</td>\n",
       "      <td>6.12</td>\n",
       "      <td>0.3</td>\n",
       "      <td>47.69</td>\n",
       "      <td>0.0</td>\n",
       "    </tr>\n",
       "    <tr>\n",
       "      <th>6896315</th>\n",
       "      <td>NaN</td>\n",
       "      <td>2019-12-31 00:38:19</td>\n",
       "      <td>2019-12-31 01:19:37</td>\n",
       "      <td>NaN</td>\n",
       "      <td>14.51</td>\n",
       "      <td>NaN</td>\n",
       "      <td>NaN</td>\n",
       "      <td>230</td>\n",
       "      <td>21</td>\n",
       "      <td>NaN</td>\n",
       "      <td>41.86</td>\n",
       "      <td>2.75</td>\n",
       "      <td>0.0</td>\n",
       "      <td>0.0</td>\n",
       "      <td>6.12</td>\n",
       "      <td>0.3</td>\n",
       "      <td>51.03</td>\n",
       "      <td>0.0</td>\n",
       "    </tr>\n",
       "    <tr>\n",
       "      <th>6896316</th>\n",
       "      <td>NaN</td>\n",
       "      <td>2019-12-31 00:21:00</td>\n",
       "      <td>2019-12-31 00:56:00</td>\n",
       "      <td>NaN</td>\n",
       "      <td>-17.16</td>\n",
       "      <td>NaN</td>\n",
       "      <td>NaN</td>\n",
       "      <td>193</td>\n",
       "      <td>219</td>\n",
       "      <td>NaN</td>\n",
       "      <td>44.62</td>\n",
       "      <td>2.75</td>\n",
       "      <td>0.5</td>\n",
       "      <td>0.0</td>\n",
       "      <td>0.00</td>\n",
       "      <td>0.3</td>\n",
       "      <td>48.17</td>\n",
       "      <td>0.0</td>\n",
       "    </tr>\n",
       "  </tbody>\n",
       "</table>\n",
       "<p>51018 rows × 18 columns</p>\n",
       "</div>"
      ],
      "text/plain": [
       "         VendorID tpep_pickup_datetime  ... total_amount  congestion_surcharge\n",
       "6845299       NaN  2019-12-01 11:29:00  ...        39.20                   0.0\n",
       "6845300       NaN  2019-12-01 11:40:42  ...        39.50                   0.0\n",
       "6845301       NaN  2019-12-01 11:00:00  ...        37.11                   0.0\n",
       "6845302       NaN  2019-12-01 11:43:00  ...        51.90                   0.0\n",
       "6845303       NaN  2019-12-01 11:01:35  ...        24.23                   0.0\n",
       "...           ...                  ...  ...          ...                   ...\n",
       "6896312       NaN  2019-12-31 00:07:00  ...        41.99                   0.0\n",
       "6896313       NaN  2019-12-31 00:20:00  ...        61.30                   0.0\n",
       "6896314       NaN  2019-12-31 00:50:00  ...        47.69                   0.0\n",
       "6896315       NaN  2019-12-31 00:38:19  ...        51.03                   0.0\n",
       "6896316       NaN  2019-12-31 00:21:00  ...        48.17                   0.0\n",
       "\n",
       "[51018 rows x 18 columns]"
      ]
     },
     "execution_count": 16,
     "metadata": {
      "tags": []
     },
     "output_type": "execute_result"
    }
   ],
   "source": [
    "data[(data['VendorID'].isna()) & (data['passenger_count'].isna()) & (data['RatecodeID'].isna()) & (data['store_and_fwd_flag'].isna())]"
   ]
  },
  {
   "cell_type": "code",
   "execution_count": 3,
   "metadata": {
    "colab": {},
    "colab_type": "code",
    "id": "5wHM9wDDRpwp"
   },
   "outputs": [],
   "source": [
    "data = data.dropna()"
   ]
  },
  {
   "cell_type": "code",
   "execution_count": null,
   "metadata": {
    "colab": {
     "base_uri": "https://localhost:8080/",
     "height": 34
    },
    "colab_type": "code",
    "id": "dxrm4yQgSklj",
    "outputId": "f0672c7c-dd6b-4116-eabb-30e8932ff15c"
   },
   "outputs": [
    {
     "name": "stdout",
     "output_type": "stream",
     "text": [
      "(6845299, 18)\n"
     ]
    }
   ],
   "source": [
    "print(data.shape)"
   ]
  },
  {
   "cell_type": "code",
   "execution_count": null,
   "metadata": {
    "colab": {
     "base_uri": "https://localhost:8080/",
     "height": 340
    },
    "colab_type": "code",
    "id": "QII3uvywSrMT",
    "outputId": "c16c05ee-1560-43f0-ca1f-6afa4d7d1f33"
   },
   "outputs": [
    {
     "data": {
      "text/plain": [
       "VendorID                 0\n",
       "tpep_pickup_datetime     0\n",
       "tpep_dropoff_datetime    0\n",
       "passenger_count          0\n",
       "trip_distance            0\n",
       "RatecodeID               0\n",
       "store_and_fwd_flag       0\n",
       "PULocationID             0\n",
       "DOLocationID             0\n",
       "payment_type             0\n",
       "fare_amount              0\n",
       "extra                    0\n",
       "mta_tax                  0\n",
       "tip_amount               0\n",
       "tolls_amount             0\n",
       "improvement_surcharge    0\n",
       "total_amount             0\n",
       "congestion_surcharge     0\n",
       "dtype: int64"
      ]
     },
     "execution_count": 19,
     "metadata": {
      "tags": []
     },
     "output_type": "execute_result"
    }
   ],
   "source": [
    "data.isnull().sum()"
   ]
  },
  {
   "cell_type": "markdown",
   "metadata": {
    "colab_type": "text",
    "id": "dvKnLOrtdiwh"
   },
   "source": [
    "#### Conclusion\n",
    "*  In this data set, there are 51018 rows which have missing data.\n",
    "*  There are five columns data with missing values.\n",
    "*  The columns name are VendorID, passenger_count, store_and_fwd_flag, RatecodeID and payment type which have missing value.\n",
    "*  As meintioned above all 51018 rows have same missing data.\n",
    "*  We remove all missing value of the data beacuse these are very big data if I remove some small data then the EDA and models both are performed better with more accuracy."
   ]
  },
  {
   "cell_type": "markdown",
   "metadata": {
    "colab_type": "text",
    "id": "ZYx8OM4MP8-D"
   },
   "source": [
    "## 2 Indiviual feature Visualization\n"
   ]
  },
  {
   "cell_type": "markdown",
   "metadata": {
    "colab_type": "text",
    "id": "9E5kkwGwJVR_"
   },
   "source": [
    "### Histogram of the data\n",
    "\n",
    "* Histogram is graphical representation of data.\n",
    "* It work on only numerical data.\n",
    "* It is used to get overview of field of data which data types are int or float. "
   ]
  },
  {
   "cell_type": "code",
   "execution_count": null,
   "metadata": {
    "colab": {
     "base_uri": "https://localhost:8080/",
     "height": 706
    },
    "colab_type": "code",
    "id": "wyz7tlYtTeYW",
    "outputId": "5cec8d22-8140-4404-e79f-cab68f2e0544"
   },
   "outputs": [
    {
     "data": {
      "image/png": "[encoded data removed]",
      "text/plain": [
       "<Figure size 1440x1080 with 16 Axes>"
      ]
     },
     "metadata": {
      "needs_background": "light",
      "tags": []
     },
     "output_type": "display_data"
    }
   ],
   "source": [
    "data.hist(bins=20,figsize=(20,15));"
   ]
  },
  {
   "cell_type": "markdown",
   "metadata": {
    "colab_type": "text",
    "id": "K47vBU45Jd3-"
   },
   "source": [
    "#### Conclusion\n",
    "* In this graph, there are 15 subplots according to field of data.\n",
    "* The graph explain the over view of each field where data are number."
   ]
  },
  {
   "cell_type": "markdown",
   "metadata": {
    "colab_type": "text",
    "id": "e0eF-K4IgyGE"
   },
   "source": [
    "### 2.1 Store_and_fwd_flag graph"
   ]
  },
  {
   "cell_type": "code",
   "execution_count": null,
   "metadata": {
    "colab": {
     "base_uri": "https://localhost:8080/",
     "height": 291
    },
    "colab_type": "code",
    "id": "m-Onu62LTIHR",
    "outputId": "3a5aa10b-665b-4125-ae2b-618d2f632ced"
   },
   "outputs": [
    {
     "data": {
      "image/png": "[encoded data removed]",
      "text/plain": [
       "<Figure size 432x288 with 1 Axes>"
      ]
     },
     "metadata": {
      "needs_background": "light",
      "tags": []
     },
     "output_type": "display_data"
    }
   ],
   "source": [
    "sns.countplot(x='store_and_fwd_flag', data=data);"
   ]
  },
  {
   "cell_type": "markdown",
   "metadata": {
    "colab_type": "text",
    "id": "AkPuX4W7E2Xy"
   },
   "source": [
    "#### Conclusion\n",
    "*  This graph indicate that the maximum trip data was sent immediately to the server using app or website.\n",
    "*  When the app or website or server is not work properly, the taxi driver hold the data. These data can create inconsistency or redundency in the data on the server.\n",
    "*  It indicates that your server and app or wesite are working properly.\n",
    "*  The data is easily maintain by the server"
   ]
  },
  {
   "cell_type": "markdown",
   "metadata": {
    "colab_type": "text",
    "id": "G2zIYpjkBuaP"
   },
   "source": [
    "### 2.2 Tip amount"
   ]
  },
  {
   "cell_type": "code",
   "execution_count": null,
   "metadata": {
    "colab": {
     "base_uri": "https://localhost:8080/",
     "height": 297
    },
    "colab_type": "code",
    "id": "ZkH4TuFz_hiZ",
    "outputId": "a604fbcc-0ff5-437c-8c48-38420d517496"
   },
   "outputs": [
    {
     "data": {
      "text/plain": [
       "<matplotlib.axes._subplots.AxesSubplot at 0x7fb3618f5438>"
      ]
     },
     "execution_count": 67,
     "metadata": {
      "tags": []
     },
     "output_type": "execute_result"
    },
    {
     "data": {
      "image/png": "[encoded data removed]",
      "text/plain": [
       "<Figure size 432x288 with 1 Axes>"
      ]
     },
     "metadata": {
      "needs_background": "light",
      "tags": []
     },
     "output_type": "display_data"
    }
   ],
   "source": [
    "sns.boxenplot(data['tip_amount'])"
   ]
  },
  {
   "cell_type": "markdown",
   "metadata": {
    "colab_type": "text",
    "id": "rIYmcbFsB7hQ"
   },
   "source": [
    "*  In this graph shows that tip amount is negative but according to sense tip amount cannot be negative.\n",
    "*  We need to remove that instance of data which have negative tip amount."
   ]
  },
  {
   "cell_type": "code",
   "execution_count": 4,
   "metadata": {
    "colab": {},
    "colab_type": "code",
    "id": "wZE_U0CjAKTC"
   },
   "outputs": [],
   "source": [
    "index_tip_amount_negative=data[data['tip_amount']<0].index"
   ]
  },
  {
   "cell_type": "code",
   "execution_count": 5,
   "metadata": {
    "colab": {},
    "colab_type": "code",
    "id": "wf78l8rrAtFp"
   },
   "outputs": [],
   "source": [
    "data = data.drop(index_tip_amount_negative,axis=0)"
   ]
  },
  {
   "cell_type": "code",
   "execution_count": null,
   "metadata": {
    "colab": {
     "base_uri": "https://localhost:8080/",
     "height": 297
    },
    "colab_type": "code",
    "id": "53Dk60L5BTyA",
    "outputId": "608199d4-b5e0-4b11-8611-b8a14bb49d35"
   },
   "outputs": [
    {
     "data": {
      "text/plain": [
       "<matplotlib.axes._subplots.AxesSubplot at 0x7fb3999a5940>"
      ]
     },
     "execution_count": 74,
     "metadata": {
      "tags": []
     },
     "output_type": "execute_result"
    },
    {
     "data": {
      "image/png": "[encoded data removed]",
      "text/plain": [
       "<Figure size 432x288 with 1 Axes>"
      ]
     },
     "metadata": {
      "needs_background": "light",
      "tags": []
     },
     "output_type": "display_data"
    }
   ],
   "source": [
    "sns.boxenplot(data['tip_amount'])"
   ]
  },
  {
   "cell_type": "code",
   "execution_count": null,
   "metadata": {
    "colab": {
     "base_uri": "https://localhost:8080/",
     "height": 170
    },
    "colab_type": "code",
    "id": "tUj8LxHwC1Ce",
    "outputId": "1871d513-a1fe-4086-a467-4b6cbfb144d3"
   },
   "outputs": [
    {
     "data": {
      "text/plain": [
       "count    6.845096e+06\n",
       "mean     2.261029e+00\n",
       "std      2.875812e+00\n",
       "min      0.000000e+00\n",
       "25%      0.000000e+00\n",
       "50%      1.950000e+00\n",
       "75%      3.000000e+00\n",
       "max      4.044400e+02\n",
       "Name: tip_amount, dtype: float64"
      ]
     },
     "execution_count": 75,
     "metadata": {
      "tags": []
     },
     "output_type": "execute_result"
    }
   ],
   "source": [
    "data['tip_amount'].describe()"
   ]
  },
  {
   "cell_type": "markdown",
   "metadata": {
    "colab_type": "text",
    "id": "FLUjPjYGhELh"
   },
   "source": [
    "#### Conclusion\n",
    "*  The tip amount is not depend on any feature. The tip amount will be given when passenger are happy.\n",
    "*  There are no limit of tip amount and according to data analysis the maximum tip amount is 400 USD and minimum tip amount is 0 USD.\n",
    "*  The maximum number of passenger  did not give any amount of tip to taxi driver."
   ]
  },
  {
   "cell_type": "markdown",
   "metadata": {
    "colab_type": "text",
    "id": "fZ4-7YiQhKm4"
   },
   "source": [
    "### 2.3 VendorID graph"
   ]
  },
  {
   "cell_type": "code",
   "execution_count": null,
   "metadata": {
    "colab": {
     "base_uri": "https://localhost:8080/",
     "height": 290
    },
    "colab_type": "code",
    "id": "00y_oZOmTc91",
    "outputId": "1cda7c02-9f6e-46d8-919c-c7d5c9b70111"
   },
   "outputs": [
    {
     "data": {
      "image/png": "[encoded data removed]",
      "text/plain": [
       "<Figure size 432x288 with 1 Axes>"
      ]
     },
     "metadata": {
      "needs_background": "light",
      "tags": []
     },
     "output_type": "display_data"
    }
   ],
   "source": [
    "sns.countplot(x='VendorID',data=data);"
   ]
  },
  {
   "cell_type": "markdown",
   "metadata": {
    "colab_type": "text",
    "id": "JnHHFOT5hSms"
   },
   "source": [
    "#### Conclusion\n",
    "*  There are two vendorID 1.0 and 2.0. it indicates two companies.\n",
    "*  The 2nd company (2.0) take more pickup and dropoff to the customer.\n",
    "*  The graph shows that the 2nd compnay(2.0) is more larger than 1st company(1.0).\n",
    "*  The 2nd company provide better services than 1st company so that the profit of 2nd company is higher than 1st company."
   ]
  },
  {
   "cell_type": "markdown",
   "metadata": {
    "colab_type": "text",
    "id": "d9xscALGhYxK"
   },
   "source": [
    "### 2.4 Passenger_count graph"
   ]
  },
  {
   "cell_type": "code",
   "execution_count": null,
   "metadata": {
    "colab": {
     "base_uri": "https://localhost:8080/",
     "height": 308
    },
    "colab_type": "code",
    "id": "rwFub5buWl7Q",
    "outputId": "da21bd8a-2d3a-4442-998b-e6d1ec50caa4"
   },
   "outputs": [
    {
     "data": {
      "text/plain": [
       "<matplotlib.axes._subplots.AxesSubplot at 0x7fc3a5cd09e8>"
      ]
     },
     "execution_count": 23,
     "metadata": {
      "tags": []
     },
     "output_type": "execute_result"
    },
    {
     "data": {
      "image/png": "[encoded data removed]",
      "text/plain": [
       "<Figure size 432x288 with 1 Axes>"
      ]
     },
     "metadata": {
      "needs_background": "light",
      "tags": []
     },
     "output_type": "display_data"
    }
   ],
   "source": [
    "sns.countplot(x='passenger_count',data=data)"
   ]
  },
  {
   "cell_type": "markdown",
   "metadata": {
    "colab_type": "text",
    "id": "2GuCw2hmhfoP"
   },
   "source": [
    "#### Conclusion\n",
    "*  This graph indicate that the customer want to travel alone.\n",
    "*  The most common customers are worker so that every customer want to get services first.\n",
    "*  Driver of taxi can handle maximum nine customer at a time.\n",
    "*  The families are travel in the weekends."
   ]
  },
  {
   "cell_type": "markdown",
   "metadata": {
    "colab_type": "text",
    "id": "uMIKyccihs4J"
   },
   "source": [
    "### 2.5 Payment_type graph"
   ]
  },
  {
   "cell_type": "code",
   "execution_count": null,
   "metadata": {
    "colab": {
     "base_uri": "https://localhost:8080/",
     "height": 291
    },
    "colab_type": "code",
    "id": "ILj5c5UDqMF5",
    "outputId": "c01ff76c-60bc-4a17-bae2-2bf9543ef339"
   },
   "outputs": [
    {
     "data": {
      "image/png": "[encoded data removed]",
      "text/plain": [
       "<Figure size 432x288 with 1 Axes>"
      ]
     },
     "metadata": {
      "needs_background": "light",
      "tags": []
     },
     "output_type": "display_data"
    }
   ],
   "source": [
    "sns.countplot(x='payment_type',data=data);"
   ]
  },
  {
   "cell_type": "markdown",
   "metadata": {
    "colab_type": "text",
    "id": "LcyOfl8kh2PQ"
   },
   "source": [
    "#### Conclusion\n",
    "*  There are five type of payment methods as follow-\n",
    "    *  By cash\n",
    "    *  By Card (Debit or Credit card)\n",
    "    *  By Paytm\n",
    "    *  By GooglePay\n",
    "    *  By PhonePay\n",
    "* The maximum number of passenger pay amount for the services to companies by cash or by card (credit or debit card)."
   ]
  },
  {
   "cell_type": "markdown",
   "metadata": {
    "colab_type": "text",
    "id": "ecdrXiTSzT0M"
   },
   "source": [
    "### 2.6 Pickup location ID and Drop off location ID"
   ]
  },
  {
   "cell_type": "code",
   "execution_count": null,
   "metadata": {
    "colab": {
     "base_uri": "https://localhost:8080/",
     "height": 274
    },
    "colab_type": "code",
    "id": "aUNBbm8Xztcl",
    "outputId": "cf4f2ba7-6c8c-42aa-c364-1c216209b84a"
   },
   "outputs": [
    {
     "data": {
      "text/plain": [
       "Text(0.5, 1.0, 'Drop off Location ID')"
      ]
     },
     "execution_count": 15,
     "metadata": {
      "tags": []
     },
     "output_type": "execute_result"
    },
    {
     "data": {
      "image/png": "[encoded data removed]",
      "text/plain": [
       "<Figure size 1440x720 with 2 Axes>"
      ]
     },
     "metadata": {
      "needs_background": "light",
      "tags": []
     },
     "output_type": "display_data"
    }
   ],
   "source": [
    "plt.figure(figsize=(20,10))\n",
    "plt.subplot(2,2,1)\n",
    "plt.hist(data['PULocationID'])\n",
    "plt.title('Pickup Location ID')\n",
    "plt.subplot(2,2,2)\n",
    "plt.hist(data['DOLocationID'])\n",
    "plt.title('Drop off Location ID')"
   ]
  },
  {
   "cell_type": "markdown",
   "metadata": {
    "colab_type": "text",
    "id": "fV8B1t-D1se9"
   },
   "source": [
    "#### Conclusion\n",
    "* This graphs indicates that the pickup location ID and Drop off location ID both are approximate same. It means that the passenger are travel in limited area.\n",
    "*  This pickup locations indicate societal  area and the drop off loacations indicate the industrial area.\n",
    "*  The distance between pickup location ID's and Drop off location ID's are minor or small."
   ]
  },
  {
   "cell_type": "markdown",
   "metadata": {
    "colab_type": "text",
    "id": "4z7pT7A7iczF"
   },
   "source": [
    "### 2.7 Day graph"
   ]
  },
  {
   "cell_type": "code",
   "execution_count": 6,
   "metadata": {
    "colab": {},
    "colab_type": "code",
    "id": "6fUstADgTvVZ"
   },
   "outputs": [],
   "source": [
    "data['tpep_dropoff_datetime'] = pd.to_datetime(data['tpep_dropoff_datetime']) \n",
    "data['tpep_pickup_datetime'] = pd.to_datetime(data['tpep_pickup_datetime'])"
   ]
  },
  {
   "cell_type": "code",
   "execution_count": 7,
   "metadata": {
    "colab": {},
    "colab_type": "code",
    "id": "a1rgeYoTUu6Y"
   },
   "outputs": [],
   "source": [
    "fun = lambda x:x.day_name()\n",
    "data['day']=data['tpep_pickup_datetime'].apply(fun)"
   ]
  },
  {
   "cell_type": "code",
   "execution_count": null,
   "metadata": {
    "colab": {
     "base_uri": "https://localhost:8080/",
     "height": 362
    },
    "colab_type": "code",
    "id": "xstpvUb6VIee",
    "outputId": "5dc7c1d8-4a34-45d5-b344-a81047fc71af"
   },
   "outputs": [
    {
     "data": {
      "text/plain": [
       "<matplotlib.axes._subplots.AxesSubplot at 0x7fc357cbdfd0>"
      ]
     },
     "execution_count": 26,
     "metadata": {
      "tags": []
     },
     "output_type": "execute_result"
    },
    {
     "data": {
      "image/png": "[encoded data removed]",
      "text/plain": [
       "<Figure size 720x360 with 1 Axes>"
      ]
     },
     "metadata": {
      "needs_background": "light",
      "tags": []
     },
     "output_type": "display_data"
    }
   ],
   "source": [
    "plt.figure(figsize=(10,5))\n",
    "sns.countplot(x='day',data=data)"
   ]
  },
  {
   "cell_type": "markdown",
   "metadata": {
    "colab_type": "text",
    "id": "2Ajq8xEUilE9"
   },
   "source": [
    "#### Conclusion\n",
    "* Here, we can see that the maximum number of passenger use taxi on **Monday and Tuesday**."
   ]
  },
  {
   "cell_type": "markdown",
   "metadata": {
    "colab_type": "text",
    "id": "lIVaPijge_AS"
   },
   "source": [
    "### 2.8 Time duration graph\n",
    "Here, we calculate the time duration until the person is in taxi. We plot the graph of time duration \n",
    "\n",
    "The time duration will be difference of drop off time and pickup time of the passenger."
   ]
  },
  {
   "cell_type": "code",
   "execution_count": 8,
   "metadata": {
    "colab": {},
    "colab_type": "code",
    "id": "hqSJv6dSXC0I"
   },
   "outputs": [],
   "source": [
    "data['time_duration']=data['tpep_dropoff_datetime']-data['tpep_pickup_datetime']"
   ]
  },
  {
   "cell_type": "code",
   "execution_count": null,
   "metadata": {
    "colab": {
     "base_uri": "https://localhost:8080/",
     "height": 276
    },
    "colab_type": "code",
    "id": "WlxwGDNiXTGt",
    "outputId": "3d87fa63-0be5-494e-cbed-5214dca73f59"
   },
   "outputs": [
    {
     "data": {
      "image/png": "[encoded data removed]",
      "text/plain": [
       "<Figure size 432x288 with 1 Axes>"
      ]
     },
     "metadata": {
      "needs_background": "light",
      "tags": []
     },
     "output_type": "display_data"
    }
   ],
   "source": [
    "plt.boxplot(data['time_duration']);"
   ]
  },
  {
   "cell_type": "markdown",
   "metadata": {
    "colab_type": "text",
    "id": "h50TI-ZlgDCX"
   },
   "source": [
    "*  We find that one instance of time duration is negative it means there are some wrong information. Because the drop off time always remain greater than pickup time. So that the time duration always positive.\n",
    "\n",
    "*  We need to remove this type of instance where the drop off time is lower than pickup time."
   ]
  },
  {
   "cell_type": "code",
   "execution_count": null,
   "metadata": {
    "colab": {
     "base_uri": "https://localhost:8080/",
     "height": 51
    },
    "colab_type": "code",
    "id": "MJT-SdQ_X0vl",
    "outputId": "300247ec-802d-4b5c-a3d7-9fe53d328f04"
   },
   "outputs": [
    {
     "name": "stdout",
     "output_type": "stream",
     "text": [
      "4 days 05:54:47\n",
      "-5 days +23:40:32\n"
     ]
    }
   ],
   "source": [
    "print(data['time_duration'].max()) # Maximum time duration\n",
    "print(data['time_duration'].min()) # Minimum time duration"
   ]
  },
  {
   "cell_type": "code",
   "execution_count": null,
   "metadata": {
    "colab": {
     "base_uri": "https://localhost:8080/",
     "height": 34
    },
    "colab_type": "code",
    "id": "MOWKVheqYRA4",
    "outputId": "538a3980-ae9d-4427-ffc6-1b607c01dae3"
   },
   "outputs": [
    {
     "data": {
      "text/plain": [
       "1"
      ]
     },
     "execution_count": 30,
     "metadata": {
      "tags": []
     },
     "output_type": "execute_result"
    }
   ],
   "source": [
    "np.sum(data['tpep_dropoff_datetime']< data['tpep_pickup_datetime']) # number of instance where the pickup time is greater than drop off time"
   ]
  },
  {
   "cell_type": "code",
   "execution_count": null,
   "metadata": {
    "colab": {
     "base_uri": "https://localhost:8080/",
     "height": 117
    },
    "colab_type": "code",
    "id": "0fQyPAXdYpFR",
    "outputId": "20f04ab7-ceea-4d8f-ec68-aae548c18963"
   },
   "outputs": [
    {
     "data": {
      "text/html": [
       "<div>\n",
       "<style scoped>\n",
       "    .dataframe tbody tr th:only-of-type {\n",
       "        vertical-align: middle;\n",
       "    }\n",
       "\n",
       "    .dataframe tbody tr th {\n",
       "        vertical-align: top;\n",
       "    }\n",
       "\n",
       "    .dataframe thead th {\n",
       "        text-align: right;\n",
       "    }\n",
       "</style>\n",
       "<table border=\"1\" class=\"dataframe\">\n",
       "  <thead>\n",
       "    <tr style=\"text-align: right;\">\n",
       "      <th></th>\n",
       "      <th>VendorID</th>\n",
       "      <th>tpep_pickup_datetime</th>\n",
       "      <th>tpep_dropoff_datetime</th>\n",
       "      <th>passenger_count</th>\n",
       "      <th>trip_distance</th>\n",
       "      <th>RatecodeID</th>\n",
       "      <th>store_and_fwd_flag</th>\n",
       "      <th>PULocationID</th>\n",
       "      <th>DOLocationID</th>\n",
       "      <th>payment_type</th>\n",
       "      <th>fare_amount</th>\n",
       "      <th>extra</th>\n",
       "      <th>mta_tax</th>\n",
       "      <th>tip_amount</th>\n",
       "      <th>tolls_amount</th>\n",
       "      <th>improvement_surcharge</th>\n",
       "      <th>total_amount</th>\n",
       "      <th>congestion_surcharge</th>\n",
       "      <th>day</th>\n",
       "      <th>time_duration</th>\n",
       "    </tr>\n",
       "  </thead>\n",
       "  <tbody>\n",
       "    <tr>\n",
       "      <th>2036290</th>\n",
       "      <td>1.0</td>\n",
       "      <td>2019-12-09 15:53:10</td>\n",
       "      <td>2019-12-05 15:33:42</td>\n",
       "      <td>1.0</td>\n",
       "      <td>3.7</td>\n",
       "      <td>1.0</td>\n",
       "      <td>N</td>\n",
       "      <td>186</td>\n",
       "      <td>13</td>\n",
       "      <td>1.0</td>\n",
       "      <td>19.5</td>\n",
       "      <td>2.5</td>\n",
       "      <td>0.5</td>\n",
       "      <td>3.0</td>\n",
       "      <td>0.0</td>\n",
       "      <td>0.3</td>\n",
       "      <td>25.8</td>\n",
       "      <td>2.5</td>\n",
       "      <td>Monday</td>\n",
       "      <td>-5 days +23:40:32</td>\n",
       "    </tr>\n",
       "  </tbody>\n",
       "</table>\n",
       "</div>"
      ],
      "text/plain": [
       "         VendorID tpep_pickup_datetime  ...     day     time_duration\n",
       "2036290       1.0  2019-12-09 15:53:10  ...  Monday -5 days +23:40:32\n",
       "\n",
       "[1 rows x 20 columns]"
      ]
     },
     "execution_count": 31,
     "metadata": {
      "tags": []
     },
     "output_type": "execute_result"
    }
   ],
   "source": [
    "data[data['tpep_dropoff_datetime']<data['tpep_pickup_datetime']]  #Those row where drop off time is low."
   ]
  },
  {
   "cell_type": "code",
   "execution_count": 9,
   "metadata": {
    "colab": {},
    "colab_type": "code",
    "id": "yRxVQYr_Zb7P"
   },
   "outputs": [],
   "source": [
    "data=data.drop(2036290,axis=0)"
   ]
  },
  {
   "cell_type": "code",
   "execution_count": null,
   "metadata": {
    "colab": {
     "base_uri": "https://localhost:8080/",
     "height": 224
    },
    "colab_type": "code",
    "id": "VjUIcX6ucH74",
    "outputId": "21875c86-66a1-45ce-bcae-21918cfb5488"
   },
   "outputs": [
    {
     "data": {
      "text/html": [
       "<div>\n",
       "<style scoped>\n",
       "    .dataframe tbody tr th:only-of-type {\n",
       "        vertical-align: middle;\n",
       "    }\n",
       "\n",
       "    .dataframe tbody tr th {\n",
       "        vertical-align: top;\n",
       "    }\n",
       "\n",
       "    .dataframe thead th {\n",
       "        text-align: right;\n",
       "    }\n",
       "</style>\n",
       "<table border=\"1\" class=\"dataframe\">\n",
       "  <thead>\n",
       "    <tr style=\"text-align: right;\">\n",
       "      <th></th>\n",
       "      <th>VendorID</th>\n",
       "      <th>tpep_pickup_datetime</th>\n",
       "      <th>tpep_dropoff_datetime</th>\n",
       "      <th>passenger_count</th>\n",
       "      <th>trip_distance</th>\n",
       "      <th>RatecodeID</th>\n",
       "      <th>store_and_fwd_flag</th>\n",
       "      <th>PULocationID</th>\n",
       "      <th>DOLocationID</th>\n",
       "      <th>payment_type</th>\n",
       "      <th>fare_amount</th>\n",
       "      <th>extra</th>\n",
       "      <th>mta_tax</th>\n",
       "      <th>tip_amount</th>\n",
       "      <th>tolls_amount</th>\n",
       "      <th>improvement_surcharge</th>\n",
       "      <th>total_amount</th>\n",
       "      <th>congestion_surcharge</th>\n",
       "      <th>day</th>\n",
       "      <th>time_duration</th>\n",
       "    </tr>\n",
       "  </thead>\n",
       "  <tbody>\n",
       "    <tr>\n",
       "      <th>0</th>\n",
       "      <td>1.0</td>\n",
       "      <td>2019-12-01 00:26:58</td>\n",
       "      <td>2019-12-01 00:41:45</td>\n",
       "      <td>1.0</td>\n",
       "      <td>4.2</td>\n",
       "      <td>1.0</td>\n",
       "      <td>N</td>\n",
       "      <td>142</td>\n",
       "      <td>116</td>\n",
       "      <td>2.0</td>\n",
       "      <td>14.5</td>\n",
       "      <td>3.0</td>\n",
       "      <td>0.5</td>\n",
       "      <td>0.0</td>\n",
       "      <td>0.0</td>\n",
       "      <td>0.3</td>\n",
       "      <td>18.3</td>\n",
       "      <td>2.5</td>\n",
       "      <td>Sunday</td>\n",
       "      <td>00:14:47</td>\n",
       "    </tr>\n",
       "    <tr>\n",
       "      <th>1</th>\n",
       "      <td>1.0</td>\n",
       "      <td>2019-12-01 00:12:08</td>\n",
       "      <td>2019-12-01 00:12:14</td>\n",
       "      <td>1.0</td>\n",
       "      <td>0.0</td>\n",
       "      <td>1.0</td>\n",
       "      <td>N</td>\n",
       "      <td>145</td>\n",
       "      <td>145</td>\n",
       "      <td>2.0</td>\n",
       "      <td>2.5</td>\n",
       "      <td>0.5</td>\n",
       "      <td>0.5</td>\n",
       "      <td>0.0</td>\n",
       "      <td>0.0</td>\n",
       "      <td>0.3</td>\n",
       "      <td>3.8</td>\n",
       "      <td>0.0</td>\n",
       "      <td>Sunday</td>\n",
       "      <td>00:00:06</td>\n",
       "    </tr>\n",
       "    <tr>\n",
       "      <th>2</th>\n",
       "      <td>1.0</td>\n",
       "      <td>2019-12-01 00:25:53</td>\n",
       "      <td>2019-12-01 00:26:04</td>\n",
       "      <td>1.0</td>\n",
       "      <td>0.0</td>\n",
       "      <td>1.0</td>\n",
       "      <td>N</td>\n",
       "      <td>145</td>\n",
       "      <td>145</td>\n",
       "      <td>2.0</td>\n",
       "      <td>2.5</td>\n",
       "      <td>0.5</td>\n",
       "      <td>0.5</td>\n",
       "      <td>0.0</td>\n",
       "      <td>0.0</td>\n",
       "      <td>0.3</td>\n",
       "      <td>3.8</td>\n",
       "      <td>0.0</td>\n",
       "      <td>Sunday</td>\n",
       "      <td>00:00:11</td>\n",
       "    </tr>\n",
       "    <tr>\n",
       "      <th>3</th>\n",
       "      <td>1.0</td>\n",
       "      <td>2019-12-01 00:12:03</td>\n",
       "      <td>2019-12-01 00:33:19</td>\n",
       "      <td>2.0</td>\n",
       "      <td>9.4</td>\n",
       "      <td>1.0</td>\n",
       "      <td>N</td>\n",
       "      <td>138</td>\n",
       "      <td>25</td>\n",
       "      <td>1.0</td>\n",
       "      <td>28.5</td>\n",
       "      <td>0.5</td>\n",
       "      <td>0.5</td>\n",
       "      <td>10.0</td>\n",
       "      <td>0.0</td>\n",
       "      <td>0.3</td>\n",
       "      <td>39.8</td>\n",
       "      <td>0.0</td>\n",
       "      <td>Sunday</td>\n",
       "      <td>00:21:16</td>\n",
       "    </tr>\n",
       "    <tr>\n",
       "      <th>4</th>\n",
       "      <td>1.0</td>\n",
       "      <td>2019-12-01 00:05:27</td>\n",
       "      <td>2019-12-01 00:16:32</td>\n",
       "      <td>2.0</td>\n",
       "      <td>1.6</td>\n",
       "      <td>1.0</td>\n",
       "      <td>N</td>\n",
       "      <td>161</td>\n",
       "      <td>237</td>\n",
       "      <td>2.0</td>\n",
       "      <td>9.0</td>\n",
       "      <td>3.0</td>\n",
       "      <td>0.5</td>\n",
       "      <td>0.0</td>\n",
       "      <td>0.0</td>\n",
       "      <td>0.3</td>\n",
       "      <td>12.8</td>\n",
       "      <td>2.5</td>\n",
       "      <td>Sunday</td>\n",
       "      <td>00:11:05</td>\n",
       "    </tr>\n",
       "  </tbody>\n",
       "</table>\n",
       "</div>"
      ],
      "text/plain": [
       "   VendorID tpep_pickup_datetime  ...     day  time_duration\n",
       "0       1.0  2019-12-01 00:26:58  ...  Sunday       00:14:47\n",
       "1       1.0  2019-12-01 00:12:08  ...  Sunday       00:00:06\n",
       "2       1.0  2019-12-01 00:25:53  ...  Sunday       00:00:11\n",
       "3       1.0  2019-12-01 00:12:03  ...  Sunday       00:21:16\n",
       "4       1.0  2019-12-01 00:05:27  ...  Sunday       00:11:05\n",
       "\n",
       "[5 rows x 20 columns]"
      ]
     },
     "execution_count": 33,
     "metadata": {
      "tags": []
     },
     "output_type": "execute_result"
    }
   ],
   "source": [
    "data.head()"
   ]
  },
  {
   "cell_type": "code",
   "execution_count": null,
   "metadata": {
    "colab": {
     "base_uri": "https://localhost:8080/",
     "height": 276
    },
    "colab_type": "code",
    "id": "iZsOWk8ocL-E",
    "outputId": "55d890a6-4820-4c9f-92e1-d0a367c4c9a7"
   },
   "outputs": [
    {
     "data": {
      "image/png": "[encoded data removed]",
      "text/plain": [
       "<Figure size 432x288 with 1 Axes>"
      ]
     },
     "metadata": {
      "needs_background": "light",
      "tags": []
     },
     "output_type": "display_data"
    }
   ],
   "source": [
    "plt.boxplot(data['time_duration']);"
   ]
  },
  {
   "cell_type": "code",
   "execution_count": null,
   "metadata": {
    "colab": {
     "base_uri": "https://localhost:8080/",
     "height": 170
    },
    "colab_type": "code",
    "id": "aFb5VGxTc02a",
    "outputId": "e6b8d6a2-4d94-4a05-a200-62356c0a08af"
   },
   "outputs": [
    {
     "data": {
      "text/plain": [
       "count                   6845298\n",
       "mean     0 days 00:18:28.104512\n",
       "std      0 days 01:10:33.984347\n",
       "min             0 days 00:00:00\n",
       "25%             0 days 00:06:47\n",
       "50%             0 days 00:11:37\n",
       "75%             0 days 00:19:18\n",
       "max             4 days 05:54:47\n",
       "Name: time_duration, dtype: object"
      ]
     },
     "execution_count": 35,
     "metadata": {
      "tags": []
     },
     "output_type": "execute_result"
    }
   ],
   "source": [
    "data['time_duration'].describe()"
   ]
  },
  {
   "cell_type": "markdown",
   "metadata": {
    "colab_type": "text",
    "id": "Z4REvei92aj2"
   },
   "source": [
    "#### Conclusion\n",
    "*  The maximum time duration indicate that for how much time the passenger were on trip and those passenger may be visitor or tourist person.\n",
    "*  The minimum time indicate that the distance of pickup location and drop off location is minimum. \n",
    "*  For most of passenger, time duration of travelling lies between 11 minutes to 20 minutes."
   ]
  },
  {
   "cell_type": "markdown",
   "metadata": {
    "colab_type": "text",
    "id": "QAAuSyU6jGg_"
   },
   "source": [
    "### 2.9 Day of month graph"
   ]
  },
  {
   "cell_type": "code",
   "execution_count": 10,
   "metadata": {
    "colab": {},
    "colab_type": "code",
    "id": "1iLbMBIIh14T"
   },
   "outputs": [],
   "source": [
    "fun = lambda x:x.strftime('%d')\n",
    "data['day_of_month']= data['tpep_pickup_datetime'].apply(fun)"
   ]
  },
  {
   "cell_type": "code",
   "execution_count": null,
   "metadata": {
    "colab": {
     "base_uri": "https://localhost:8080/",
     "height": 263
    },
    "colab_type": "code",
    "id": "fOtSrQ0VjSm6",
    "outputId": "7bed528d-1ff6-4f8f-acba-b15bacdf3b21"
   },
   "outputs": [
    {
     "data": {
      "image/png": "[encoded data removed]",
      "text/plain": [
       "<Figure size 1440x360 with 1 Axes>"
      ]
     },
     "metadata": {
      "needs_background": "light",
      "tags": []
     },
     "output_type": "display_data"
    }
   ],
   "source": [
    "plt.figure(figsize=(20,5))\n",
    "sns.countplot(x='day_of_month', data=data);"
   ]
  },
  {
   "cell_type": "markdown",
   "metadata": {
    "colab_type": "text",
    "id": "wmREvxRbjjaw"
   },
   "source": [
    "#### Conclusion\n",
    "*  In this graph, we can see clearly that in the weekends (saturday and sunday), most of customers taking rest so that taxi services will be privided to the minimum number of customers.\n",
    "*  The last week of December, everyone is busy in **Christmas day and new year party** so that the graph of number of pickup is low rather than other day or normal day.\n",
    "*  On **Christmas Day**(25 December 2019), there are few people travel on that day and more people are praying to God for blessing and happiness. "
   ]
  },
  {
   "cell_type": "markdown",
   "metadata": {
    "colab_type": "text",
    "id": "GceMZhxfoITP"
   },
   "source": [
    "## 3 Feature relation"
   ]
  },
  {
   "cell_type": "markdown",
   "metadata": {
    "colab_type": "text",
    "id": "9Gf04_6FkLES"
   },
   "source": [
    "### 3.1 Day Vs total_amount"
   ]
  },
  {
   "cell_type": "code",
   "execution_count": null,
   "metadata": {
    "colab": {
     "base_uri": "https://localhost:8080/",
     "height": 351
    },
    "colab_type": "code",
    "id": "OCsbUYyRk1c3",
    "outputId": "80c7487f-45ca-4fcc-f368-5a52e1291979"
   },
   "outputs": [
    {
     "data": {
      "text/plain": [
       "<matplotlib.axes._subplots.AxesSubplot at 0x7fb4035fa908>"
      ]
     },
     "execution_count": 20,
     "metadata": {
      "tags": []
     },
     "output_type": "execute_result"
    },
    {
     "data": {
      "image/png": "[encoded data removed]",
      "text/plain": [
       "<Figure size 720x360 with 1 Axes>"
      ]
     },
     "metadata": {
      "needs_background": "light",
      "tags": []
     },
     "output_type": "display_data"
    }
   ],
   "source": [
    "plt.figure(figsize=(10,5))\n",
    "sns.barplot(x='day',y='total_amount',data=data)"
   ]
  },
  {
   "cell_type": "markdown",
   "metadata": {
    "colab_type": "text",
    "id": "jAm1T11O20aM"
   },
   "source": [
    "#### Conclusion\n",
    "*  This graph show that total amount which include fare_amount, mta_tax, extra charge, tip_amount,toll_amount and improvement charges are varies between 17.5 USD to 20 USD for whole week.\n",
    "*  The total amount is maximum on monday because everyone feel fresh and want go for work.\n",
    "*  The total amount is depend on days of the week."
   ]
  },
  {
   "cell_type": "markdown",
   "metadata": {
    "colab_type": "text",
    "id": "6aRr-phtkVNf"
   },
   "source": [
    "### 3.2 VendorID Vs Passenger_count Vs Days"
   ]
  },
  {
   "cell_type": "code",
   "execution_count": null,
   "metadata": {
    "colab": {
     "base_uri": "https://localhost:8080/",
     "height": 334
    },
    "colab_type": "code",
    "id": "9OvaZ3EAovIn",
    "outputId": "f5c243fe-72ca-4b24-d986-35b503aa9d25"
   },
   "outputs": [
    {
     "data": {
      "image/png": "[encoded data removed]",
      "text/plain": [
       "<Figure size 720x360 with 1 Axes>"
      ]
     },
     "metadata": {
      "needs_background": "light",
      "tags": []
     },
     "output_type": "display_data"
    }
   ],
   "source": [
    "plt.figure(figsize=(10,5))\n",
    "sns.barplot(x='VendorID',y='passenger_count',hue='day',data=data);"
   ]
  },
  {
   "cell_type": "markdown",
   "metadata": {
    "colab_type": "text",
    "id": "b5xKulV_3fcE"
   },
   "source": [
    "#### Conclusion\n",
    "*  On saturday and sunday, the maximum families or cuples want to spend time together so that number of passenger avail taxi services on weekend as compare to normal days.\n",
    "*  The graph shows that the 2nd company are handle more passenger than 1st company in all day.\n"
   ]
  },
  {
   "cell_type": "markdown",
   "metadata": {
    "colab_type": "text",
    "id": "LeRedaaV93uM"
   },
   "source": [
    "### 3.3 Passenger_count Vs Fare_amount with VendorID"
   ]
  },
  {
   "cell_type": "code",
   "execution_count": null,
   "metadata": {
    "colab": {
     "base_uri": "https://localhost:8080/",
     "height": 351
    },
    "colab_type": "code",
    "id": "aqF5hhwvxrug",
    "outputId": "8fe79f81-b629-41ae-ebd9-a9c6d47976a6"
   },
   "outputs": [
    {
     "data": {
      "text/plain": [
       "<matplotlib.axes._subplots.AxesSubplot at 0x7fb3765c3c88>"
      ]
     },
     "execution_count": 25,
     "metadata": {
      "tags": []
     },
     "output_type": "execute_result"
    },
    {
     "data": {
      "image/png": "[encoded data removed]",
      "text/plain": [
       "<Figure size 720x360 with 1 Axes>"
      ]
     },
     "metadata": {
      "needs_background": "light",
      "tags": []
     },
     "output_type": "display_data"
    }
   ],
   "source": [
    "plt.figure(figsize=(10,5))\n",
    "sns.barplot(x='passenger_count', y='fare_amount',hue='VendorID',data=data)"
   ]
  },
  {
   "cell_type": "markdown",
   "metadata": {
    "colab_type": "text",
    "id": "u-mNzaXB-EWv"
   },
   "source": [
    "#### Conclusion\n",
    "*  In this bar plot, we can see that avrage fare_amount of 2nd company(VendorID 2.0) is high.\n",
    "*  The 2nd company provide more facility to passenger than 1st company.\n",
    "*  When the number of passenger are increase than fare amount will also increase.\n",
    "*  The 1st company not taking eight pasenger at a time.\n",
    "* When the number of passenger are vary between one to six, the fare amount of both companies are same "
   ]
  },
  {
   "cell_type": "markdown",
   "metadata": {
    "colab_type": "text",
    "id": "eJPZF7r2-Io5"
   },
   "source": [
    "### 3.4 Passenger_count Vs Pickup location ID Vs VendorID"
   ]
  },
  {
   "cell_type": "code",
   "execution_count": null,
   "metadata": {
    "colab": {
     "base_uri": "https://localhost:8080/",
     "height": 252
    },
    "colab_type": "code",
    "id": "tJUApNcA_lFp",
    "outputId": "24f7bbb7-1e5e-47a3-a2d9-5d9c028a4759"
   },
   "outputs": [
    {
     "data": {
      "text/plain": [
       "<matplotlib.axes._subplots.AxesSubplot at 0x7fb4181fc0f0>"
      ]
     },
     "execution_count": 39,
     "metadata": {
      "tags": []
     },
     "output_type": "execute_result"
    },
    {
     "data": {
      "image/png": "[encoded data removed]",
      "text/plain": [
       "<Figure size 1440x720 with 2 Axes>"
      ]
     },
     "metadata": {
      "needs_background": "light",
      "tags": []
     },
     "output_type": "display_data"
    }
   ],
   "source": [
    "plt.figure(figsize=(20,10))\n",
    "plt.subplot(2,2,1)\n",
    "sns.barplot(x='passenger_count',hue='VendorID',y='PULocationID',data=data)\n",
    "\n",
    "plt.subplot(2,2,2)\n",
    "sns.barplot(x='passenger_count',hue='VendorID',y='DOLocationID',data=data)"
   ]
  },
  {
   "cell_type": "markdown",
   "metadata": {
    "colab_type": "text",
    "id": "bTJZw7EeoZ2d"
   },
   "source": [
    "#### Conclusion\n",
    "*  The pickup and dropoff location ID are appoximate same when the number of passenger are zero to six.\n",
    "*  There are big societies from location ID 150 to location ID 155, so that the taxi get more passenger on these locations.\n",
    "*  There are large industrial area between 150 to 155 location ID.\n",
    "*  The location ID which are below than 100, these are outside area of the New York city. So that a taxi have more number of passenger in the outside area of the New York city as compare to within New York city."
   ]
  },
  {
   "cell_type": "markdown",
   "metadata": {
    "colab_type": "text",
    "id": "tGaBvt40ohpL"
   },
   "source": [
    "### 3.5 Passenger_count Vs mta_tax"
   ]
  },
  {
   "cell_type": "code",
   "execution_count": null,
   "metadata": {
    "colab": {
     "base_uri": "https://localhost:8080/",
     "height": 351
    },
    "colab_type": "code",
    "id": "64AXoJMgozkL",
    "outputId": "1b3ed66c-7b59-4b34-9934-43544d7b414d"
   },
   "outputs": [
    {
     "data": {
      "text/plain": [
       "<matplotlib.axes._subplots.AxesSubplot at 0x7fb418ae1358>"
      ]
     },
     "execution_count": 44,
     "metadata": {
      "tags": []
     },
     "output_type": "execute_result"
    },
    {
     "data": {
      "image/png": "[encoded data removed]",
      "text/plain": [
       "<Figure size 720x360 with 1 Axes>"
      ]
     },
     "metadata": {
      "needs_background": "light",
      "tags": []
     },
     "output_type": "display_data"
    }
   ],
   "source": [
    "plt.figure(figsize=(10, 5))\n",
    "sns.barplot(data['passenger_count'], data['mta_tax'])"
   ]
  },
  {
   "cell_type": "markdown",
   "metadata": {
    "colab_type": "text",
    "id": "GImKFg9KwRDy"
   },
   "source": [
    "#### Conclusion\n",
    "*  When the number of passenger are zero to six, the mta_tax is same for both campany.\n",
    "*  The mta_tax is decrease with the increase of number of passenger at a time.\n",
    "*  The mta_tax is very low when the number of passenger is maximum."
   ]
  },
  {
   "cell_type": "markdown",
   "metadata": {
    "colab_type": "text",
    "id": "6K-hPTbO841Y"
   },
   "source": [
    "### 3.6 Number of pickup Vs Hours of day"
   ]
  },
  {
   "cell_type": "code",
   "execution_count": 11,
   "metadata": {
    "colab": {},
    "colab_type": "code",
    "id": "2W5z1Nr3ppY9"
   },
   "outputs": [],
   "source": [
    "fun = lambda x:x.strftime('%H')\n",
    "data['hours']= data['tpep_pickup_datetime'].apply(fun)"
   ]
  },
  {
   "cell_type": "code",
   "execution_count": null,
   "metadata": {
    "colab": {
     "base_uri": "https://localhost:8080/",
     "height": 102
    },
    "colab_type": "code",
    "id": "bXqABYFl2Fnb",
    "outputId": "74c40c82-3a7a-4555-c846-8bf077afd52c"
   },
   "outputs": [
    {
     "data": {
      "text/plain": [
       "count     6845298\n",
       "unique         24\n",
       "top            18\n",
       "freq       433560\n",
       "Name: hours, dtype: object"
      ]
     },
     "execution_count": 59,
     "metadata": {
      "tags": []
     },
     "output_type": "execute_result"
    }
   ],
   "source": [
    "data['hours'].describe()"
   ]
  },
  {
   "cell_type": "code",
   "execution_count": null,
   "metadata": {
    "colab": {
     "base_uri": "https://localhost:8080/",
     "height": 250
    },
    "colab_type": "code",
    "id": "q7HVypwP3dMo",
    "outputId": "72b5d22c-5901-46cd-bdd0-c35cef4a89fa"
   },
   "outputs": [
    {
     "data": {
      "image/png": "[encoded data removed]",
      "text/plain": [
       "<Figure size 1440x360 with 1 Axes>"
      ]
     },
     "metadata": {
      "needs_background": "light",
      "tags": []
     },
     "output_type": "display_data"
    }
   ],
   "source": [
    "plt.figure(figsize=(20,5))\n",
    "sns.countplot(data['hours'])\n",
    "plt.ylabel('Number of pickup')\n",
    "plt.xlabel('Hour of day')\n",
    "plt.show();"
   ]
  },
  {
   "cell_type": "markdown",
   "metadata": {
    "colab_type": "text",
    "id": "pOK8TO-G6EXX"
   },
   "source": [
    "#### Conclusion\n",
    "*  The number of pickups decrese at night from 12:00 AM to 5:00 AM becuase there are minimum number taxi service available in the night.\n",
    "*  The number of pickups increase from 5:00 AM to 6:00PM because the maximum number of passenger will be available during this working hours.\n",
    "*  The number of pickup are maximum from 7:00 AM to 12:00 AM because it is opening time for the industries."
   ]
  },
  {
   "cell_type": "markdown",
   "metadata": {
    "colab_type": "text",
    "id": "fbbzMG9dEihi"
   },
   "source": [
    "## 4 Correlation between the features\n",
    "Correlation, as the name suggests, depicts a relationship between two or more features of the data."
   ]
  },
  {
   "cell_type": "code",
   "execution_count": 12,
   "metadata": {
    "colab": {},
    "colab_type": "code",
    "id": "czcyXAI78ui4"
   },
   "outputs": [],
   "source": [
    "corr = data.corr()"
   ]
  },
  {
   "cell_type": "code",
   "execution_count": 13,
   "metadata": {
    "colab": {
     "base_uri": "https://localhost:8080/",
     "height": 534
    },
    "colab_type": "code",
    "id": "lPOYTKRF8t1v",
    "outputId": "7b1b3769-b2ed-4a78-9ec5-d285305697f0"
   },
   "outputs": [
    {
     "data": {
      "text/html": [
       "<div>\n",
       "<style scoped>\n",
       "    .dataframe tbody tr th:only-of-type {\n",
       "        vertical-align: middle;\n",
       "    }\n",
       "\n",
       "    .dataframe tbody tr th {\n",
       "        vertical-align: top;\n",
       "    }\n",
       "\n",
       "    .dataframe thead th {\n",
       "        text-align: right;\n",
       "    }\n",
       "</style>\n",
       "<table border=\"1\" class=\"dataframe\">\n",
       "  <thead>\n",
       "    <tr style=\"text-align: right;\">\n",
       "      <th></th>\n",
       "      <th>VendorID</th>\n",
       "      <th>passenger_count</th>\n",
       "      <th>trip_distance</th>\n",
       "      <th>RatecodeID</th>\n",
       "      <th>PULocationID</th>\n",
       "      <th>DOLocationID</th>\n",
       "      <th>payment_type</th>\n",
       "      <th>fare_amount</th>\n",
       "      <th>extra</th>\n",
       "      <th>mta_tax</th>\n",
       "      <th>tip_amount</th>\n",
       "      <th>tolls_amount</th>\n",
       "      <th>improvement_surcharge</th>\n",
       "      <th>total_amount</th>\n",
       "      <th>congestion_surcharge</th>\n",
       "    </tr>\n",
       "  </thead>\n",
       "  <tbody>\n",
       "    <tr>\n",
       "      <th>VendorID</th>\n",
       "      <td>1.000000</td>\n",
       "      <td>0.165504</td>\n",
       "      <td>0.011955</td>\n",
       "      <td>0.007823</td>\n",
       "      <td>-0.008160</td>\n",
       "      <td>-0.003435</td>\n",
       "      <td>-0.012721</td>\n",
       "      <td>0.000522</td>\n",
       "      <td>-0.864544</td>\n",
       "      <td>-0.026163</td>\n",
       "      <td>0.021828</td>\n",
       "      <td>0.008094</td>\n",
       "      <td>-0.039185</td>\n",
       "      <td>0.000995</td>\n",
       "      <td>-0.009158</td>\n",
       "    </tr>\n",
       "    <tr>\n",
       "      <th>passenger_count</th>\n",
       "      <td>0.165504</td>\n",
       "      <td>1.000000</td>\n",
       "      <td>0.007955</td>\n",
       "      <td>-0.001556</td>\n",
       "      <td>-0.005576</td>\n",
       "      <td>-0.005497</td>\n",
       "      <td>0.018636</td>\n",
       "      <td>0.001092</td>\n",
       "      <td>-0.136908</td>\n",
       "      <td>0.001165</td>\n",
       "      <td>-0.000519</td>\n",
       "      <td>0.011566</td>\n",
       "      <td>0.003415</td>\n",
       "      <td>0.001308</td>\n",
       "      <td>0.014328</td>\n",
       "    </tr>\n",
       "    <tr>\n",
       "      <th>trip_distance</th>\n",
       "      <td>0.011955</td>\n",
       "      <td>0.007955</td>\n",
       "      <td>1.000000</td>\n",
       "      <td>0.066688</td>\n",
       "      <td>-0.044534</td>\n",
       "      <td>-0.049477</td>\n",
       "      <td>-0.009172</td>\n",
       "      <td>0.032334</td>\n",
       "      <td>-0.005873</td>\n",
       "      <td>-0.033941</td>\n",
       "      <td>0.242322</td>\n",
       "      <td>0.285936</td>\n",
       "      <td>0.006053</td>\n",
       "      <td>0.039728</td>\n",
       "      <td>-0.092883</td>\n",
       "    </tr>\n",
       "    <tr>\n",
       "      <th>RatecodeID</th>\n",
       "      <td>0.007823</td>\n",
       "      <td>-0.001556</td>\n",
       "      <td>0.066688</td>\n",
       "      <td>1.000000</td>\n",
       "      <td>-0.006994</td>\n",
       "      <td>0.002849</td>\n",
       "      <td>0.005562</td>\n",
       "      <td>0.018238</td>\n",
       "      <td>-0.022250</td>\n",
       "      <td>-0.173856</td>\n",
       "      <td>0.126870</td>\n",
       "      <td>0.149795</td>\n",
       "      <td>-0.043973</td>\n",
       "      <td>0.021758</td>\n",
       "      <td>-0.097568</td>\n",
       "    </tr>\n",
       "    <tr>\n",
       "      <th>PULocationID</th>\n",
       "      <td>-0.008160</td>\n",
       "      <td>-0.005576</td>\n",
       "      <td>-0.044534</td>\n",
       "      <td>-0.006994</td>\n",
       "      <td>1.000000</td>\n",
       "      <td>0.104698</td>\n",
       "      <td>-0.029042</td>\n",
       "      <td>-0.006184</td>\n",
       "      <td>0.022067</td>\n",
       "      <td>0.003378</td>\n",
       "      <td>-0.031530</td>\n",
       "      <td>-0.047562</td>\n",
       "      <td>0.002209</td>\n",
       "      <td>-0.006796</td>\n",
       "      <td>0.121957</td>\n",
       "    </tr>\n",
       "    <tr>\n",
       "      <th>DOLocationID</th>\n",
       "      <td>-0.003435</td>\n",
       "      <td>-0.005497</td>\n",
       "      <td>-0.049477</td>\n",
       "      <td>0.002849</td>\n",
       "      <td>0.104698</td>\n",
       "      <td>1.000000</td>\n",
       "      <td>-0.030544</td>\n",
       "      <td>-0.006615</td>\n",
       "      <td>0.019757</td>\n",
       "      <td>0.026107</td>\n",
       "      <td>-0.036662</td>\n",
       "      <td>-0.063878</td>\n",
       "      <td>0.000817</td>\n",
       "      <td>-0.007481</td>\n",
       "      <td>0.122296</td>\n",
       "    </tr>\n",
       "    <tr>\n",
       "      <th>payment_type</th>\n",
       "      <td>-0.012721</td>\n",
       "      <td>0.018636</td>\n",
       "      <td>-0.009172</td>\n",
       "      <td>0.005562</td>\n",
       "      <td>-0.029042</td>\n",
       "      <td>-0.030544</td>\n",
       "      <td>1.000000</td>\n",
       "      <td>-0.001947</td>\n",
       "      <td>-0.023440</td>\n",
       "      <td>-0.178160</td>\n",
       "      <td>-0.481547</td>\n",
       "      <td>-0.033433</td>\n",
       "      <td>-0.222757</td>\n",
       "      <td>-0.012450</td>\n",
       "      <td>-0.176097</td>\n",
       "    </tr>\n",
       "    <tr>\n",
       "      <th>fare_amount</th>\n",
       "      <td>0.000522</td>\n",
       "      <td>0.001092</td>\n",
       "      <td>0.032334</td>\n",
       "      <td>0.018238</td>\n",
       "      <td>-0.006184</td>\n",
       "      <td>-0.006615</td>\n",
       "      <td>-0.001947</td>\n",
       "      <td>1.000000</td>\n",
       "      <td>-0.001066</td>\n",
       "      <td>-0.009042</td>\n",
       "      <td>0.045013</td>\n",
       "      <td>0.047690</td>\n",
       "      <td>0.005404</td>\n",
       "      <td>0.999657</td>\n",
       "      <td>-0.015785</td>\n",
       "    </tr>\n",
       "    <tr>\n",
       "      <th>extra</th>\n",
       "      <td>-0.864544</td>\n",
       "      <td>-0.136908</td>\n",
       "      <td>-0.005873</td>\n",
       "      <td>-0.022250</td>\n",
       "      <td>0.022067</td>\n",
       "      <td>0.019757</td>\n",
       "      <td>-0.023440</td>\n",
       "      <td>-0.001066</td>\n",
       "      <td>1.000000</td>\n",
       "      <td>0.090459</td>\n",
       "      <td>0.009617</td>\n",
       "      <td>-0.007440</td>\n",
       "      <td>0.065716</td>\n",
       "      <td>0.001202</td>\n",
       "      <td>0.188388</td>\n",
       "    </tr>\n",
       "    <tr>\n",
       "      <th>mta_tax</th>\n",
       "      <td>-0.026163</td>\n",
       "      <td>0.001165</td>\n",
       "      <td>-0.033941</td>\n",
       "      <td>-0.173856</td>\n",
       "      <td>0.003378</td>\n",
       "      <td>0.026107</td>\n",
       "      <td>-0.178160</td>\n",
       "      <td>-0.009042</td>\n",
       "      <td>0.090459</td>\n",
       "      <td>1.000000</td>\n",
       "      <td>-0.076368</td>\n",
       "      <td>-0.166599</td>\n",
       "      <td>0.791716</td>\n",
       "      <td>-0.009539</td>\n",
       "      <td>0.402846</td>\n",
       "    </tr>\n",
       "    <tr>\n",
       "      <th>tip_amount</th>\n",
       "      <td>0.021828</td>\n",
       "      <td>-0.000519</td>\n",
       "      <td>0.242322</td>\n",
       "      <td>0.126870</td>\n",
       "      <td>-0.031530</td>\n",
       "      <td>-0.036662</td>\n",
       "      <td>-0.481547</td>\n",
       "      <td>0.045013</td>\n",
       "      <td>0.009617</td>\n",
       "      <td>-0.076368</td>\n",
       "      <td>1.000000</td>\n",
       "      <td>0.428333</td>\n",
       "      <td>0.041059</td>\n",
       "      <td>0.068602</td>\n",
       "      <td>-0.029806</td>\n",
       "    </tr>\n",
       "    <tr>\n",
       "      <th>tolls_amount</th>\n",
       "      <td>0.008094</td>\n",
       "      <td>0.011566</td>\n",
       "      <td>0.285936</td>\n",
       "      <td>0.149795</td>\n",
       "      <td>-0.047562</td>\n",
       "      <td>-0.063878</td>\n",
       "      <td>-0.033433</td>\n",
       "      <td>0.047690</td>\n",
       "      <td>-0.007440</td>\n",
       "      <td>-0.166599</td>\n",
       "      <td>0.428333</td>\n",
       "      <td>1.000000</td>\n",
       "      <td>0.018079</td>\n",
       "      <td>0.066374</td>\n",
       "      <td>-0.110859</td>\n",
       "    </tr>\n",
       "    <tr>\n",
       "      <th>improvement_surcharge</th>\n",
       "      <td>-0.039185</td>\n",
       "      <td>0.003415</td>\n",
       "      <td>0.006053</td>\n",
       "      <td>-0.043973</td>\n",
       "      <td>0.002209</td>\n",
       "      <td>0.000817</td>\n",
       "      <td>-0.222757</td>\n",
       "      <td>0.005404</td>\n",
       "      <td>0.065716</td>\n",
       "      <td>0.791716</td>\n",
       "      <td>0.041059</td>\n",
       "      <td>0.018079</td>\n",
       "      <td>1.000000</td>\n",
       "      <td>0.008754</td>\n",
       "      <td>0.337026</td>\n",
       "    </tr>\n",
       "    <tr>\n",
       "      <th>total_amount</th>\n",
       "      <td>0.000995</td>\n",
       "      <td>0.001308</td>\n",
       "      <td>0.039728</td>\n",
       "      <td>0.021758</td>\n",
       "      <td>-0.006796</td>\n",
       "      <td>-0.007481</td>\n",
       "      <td>-0.012450</td>\n",
       "      <td>0.999657</td>\n",
       "      <td>0.001202</td>\n",
       "      <td>-0.009539</td>\n",
       "      <td>0.068602</td>\n",
       "      <td>0.066374</td>\n",
       "      <td>0.008754</td>\n",
       "      <td>1.000000</td>\n",
       "      <td>-0.012578</td>\n",
       "    </tr>\n",
       "    <tr>\n",
       "      <th>congestion_surcharge</th>\n",
       "      <td>-0.009158</td>\n",
       "      <td>0.014328</td>\n",
       "      <td>-0.092883</td>\n",
       "      <td>-0.097568</td>\n",
       "      <td>0.121957</td>\n",
       "      <td>0.122296</td>\n",
       "      <td>-0.176097</td>\n",
       "      <td>-0.015785</td>\n",
       "      <td>0.188388</td>\n",
       "      <td>0.402846</td>\n",
       "      <td>-0.029806</td>\n",
       "      <td>-0.110859</td>\n",
       "      <td>0.337026</td>\n",
       "      <td>-0.012578</td>\n",
       "      <td>1.000000</td>\n",
       "    </tr>\n",
       "  </tbody>\n",
       "</table>\n",
       "</div>"
      ],
      "text/plain": [
       "                       VendorID  ...  congestion_surcharge\n",
       "VendorID               1.000000  ...             -0.009158\n",
       "passenger_count        0.165504  ...              0.014328\n",
       "trip_distance          0.011955  ...             -0.092883\n",
       "RatecodeID             0.007823  ...             -0.097568\n",
       "PULocationID          -0.008160  ...              0.121957\n",
       "DOLocationID          -0.003435  ...              0.122296\n",
       "payment_type          -0.012721  ...             -0.176097\n",
       "fare_amount            0.000522  ...             -0.015785\n",
       "extra                 -0.864544  ...              0.188388\n",
       "mta_tax               -0.026163  ...              0.402846\n",
       "tip_amount             0.021828  ...             -0.029806\n",
       "tolls_amount           0.008094  ...             -0.110859\n",
       "improvement_surcharge -0.039185  ...              0.337026\n",
       "total_amount           0.000995  ...             -0.012578\n",
       "congestion_surcharge  -0.009158  ...              1.000000\n",
       "\n",
       "[15 rows x 15 columns]"
      ]
     },
     "execution_count": 13,
     "metadata": {
      "tags": []
     },
     "output_type": "execute_result"
    }
   ],
   "source": [
    "corr"
   ]
  },
  {
   "cell_type": "code",
   "execution_count": 32,
   "metadata": {
    "colab": {
     "base_uri": "https://localhost:8080/",
     "height": 724
    },
    "colab_type": "code",
    "id": "IaR_MPBw-guh",
    "outputId": "ba914268-31a9-46db-c69c-b3c6d616f4fe"
   },
   "outputs": [
    {
     "data": {
      "text/plain": [
       "<matplotlib.axes._subplots.AxesSubplot at 0x7f132fef04a8>"
      ]
     },
     "execution_count": 32,
     "metadata": {
      "tags": []
     },
     "output_type": "execute_result"
    },
    {
     "data": {
      "image/png": "[encoded data removed]",
      "text/plain": [
       "<Figure size 720x720 with 2 Axes>"
      ]
     },
     "metadata": {
      "needs_background": "light",
      "tags": []
     },
     "output_type": "display_data"
    }
   ],
   "source": [
    "plt.figure(figsize=(10,10))\n",
    "sns.heatmap(corr)"
   ]
  },
  {
   "cell_type": "markdown",
   "metadata": {
    "colab_type": "text",
    "id": "Or6Tn2PAGUZN"
   },
   "source": [
    "#### Conclusion\n",
    "*  The negative correlation indicate the both features are inversely propotional. It means that if I increase value of one feature then the value of another feature will decrease and vice versa like-\n",
    "  *  VendorID and Extra (High negative correlation)\n",
    "  *  mta_tax and payment_type\n",
    "*  The positive correlation indicate the both features are directly propotional it means that if I increase value of one feature then the value of another feature will also increase like-\n",
    "  * fare amount and total amount (High positive correlation)\n"
   ]
  },
  {
   "cell_type": "code",
   "execution_count": null,
   "metadata": {
    "colab": {},
    "colab_type": "code",
    "id": "HWcjcbxhFwoG"
   },
   "outputs": [],
   "source": []
  }
 ],
 "metadata": {
  "colab": {
   "collapsed_sections": [],
   "name": "Capstone Project.ipynb",
   "provenance": [],
   "toc_visible": true
  },
  "kernelspec": {
   "display_name": "Python 3",
   "language": "python",
   "name": "python3"
  },
  "language_info": {
   "codemirror_mode": {
    "name": "ipython",
    "version": 3
   },
   "file_extension": ".py",
   "mimetype": "text/x-python",
   "name": "python",
   "nbconvert_exporter": "python",
   "pygments_lexer": "ipython3",
   "version": "3.7.7"
  }
 },
 "nbformat": 4,
 "nbformat_minor": 1
}
